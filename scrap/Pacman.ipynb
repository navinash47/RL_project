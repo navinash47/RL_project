{
 "cells": [
  {
   "cell_type": "code",
   "execution_count": 1,
   "metadata": {},
   "outputs": [],
   "source": [
    "# Cell 1: Imports\n",
    "import numpy as np\n",
    "from Montecarlotree import MCTS, Node\n",
    "from typing import List, Tuple\n",
    "import random\n",
    "import time\n",
    "import gymnasium as gym\n",
    "import ale_py"
   ]
  },
  {
   "cell_type": "code",
   "execution_count": 2,
   "metadata": {},
   "outputs": [],
   "source": [
    "# Cell 2: PacmanNode class\n",
    "class PacmanNode(Node):\n",
    "    def __init__(self, state, parent=None):\n",
    "        self.state = state\n",
    "        self.parent = parent\n",
    "        self.children = []\n",
    "        self.visits = 0\n",
    "        self.value = 0.0\n",
    "        self.action_space = None\n",
    "        self.untried_actions = []  # Initialize empty, will be set later\n",
    "  \n",
    "    def set_possible_actions(self, action_space) -> List:\n",
    "        self.action_space = action_space\n",
    "        self.untried_actions = list(range(self.action_space.n))\n",
    "    \n",
    "    def get_possible_actions(self) -> List:\n",
    "        if self.action_space is None:\n",
    "            return []  # Return empty list if actions not yet set\n",
    "        return list(range(self.action_space.n))"
   ]
  },
  {
   "cell_type": "code",
   "execution_count": 3,
   "metadata": {},
   "outputs": [
    {
     "name": "stdout",
     "output_type": "stream",
     "text": [
      "Possible actions: [0, 1, 2, 3, 4]\n",
      "Untried actions: [0, 1, 2, 3, 4]\n",
      "Action space: Discrete(5)\n",
      "State: (250, 160, 3)\n",
      "Parent: None\n",
      "Children: []\n",
      "Visits: 0\n",
      "Value: 0.0\n"
     ]
    },
    {
     "name": "stderr",
     "output_type": "stream",
     "text": [
      "A.L.E: Arcade Learning Environment (version 0.10.1+6a7e0ae)\n",
      "[Powered by Stella]\n"
     ]
    }
   ],
   "source": [
    "# Test PacmanNode\n",
    "test_env = gym.make(\n",
    "    \"ALE/Pacman-v5\",\n",
    "    render_mode=\"rgb_array\",\n",
    "    difficulty=0,\n",
    "    mode=0,\n",
    "    repeat_action_probability=0.0,\n",
    "    frameskip=4,\n",
    ")\n",
    "initial_state, info = test_env.reset()\n",
    "test_node = PacmanNode(initial_state)\n",
    "test_node.set_possible_actions(test_env.action_space)\n",
    "print(\"Possible actions:\", test_node.get_possible_actions())\n",
    "print(\"Untried actions:\", test_node.untried_actions)\n",
    "print(\"Action space:\", test_node.action_space)\n",
    "print(\"State:\", test_node.state.shape)\n",
    "print(\"Parent:\", test_node.parent)\n",
    "print(\"Children:\", test_node.children)\n",
    "print(\"Visits:\", test_node.visits)\n",
    "print(\"Value:\", test_node.value)\n",
    "test_env.close()\n",
    "\n",
    "\n"
   ]
  },
  {
   "cell_type": "code",
   "execution_count": 4,
   "metadata": {},
   "outputs": [],
   "source": [
    "# Cell 3: PacmanMCTS class\n",
    "class PacmanMCTS(MCTS):\n",
    "    def __init__(self, exploration_weight=1.0):\n",
    "        super().__init__(exploration_weight)\n",
    "        self.env = gym.make(\n",
    "            \"ALE/Pacman-v5\",\n",
    "            render_mode=\"rgb_array\",\n",
    "            difficulty=0,  # Easiest difficulty\n",
    "            mode=0,        # Default mode\n",
    "            repeat_action_probability=0.0,  # Fully deterministic\n",
    "            frameskip=4,   # Fixed frameskip\n",
    "        )\n",
    "        self.action_space = self.env.action_space\n",
    "        print(self.action_space)\n",
    "        self.observation_space = self.env.observation_space \n",
    "        print(self.observation_space)\n",
    "        self.is_terminal = False\n",
    "        self.reward = 0.0\n",
    "\n",
    "    def _get_current_state(self,state):\n",
    "        return state\n",
    "        \n",
    "    \n",
    "    def _get_new_position(self, pos: Tuple[int, int], action: str) -> Tuple[int, int]:\n",
    "        x, y = pos\n",
    "        if action == 'UP': return (x, y + 1)\n",
    "        if action == 'DOWN': return (x, y - 1)\n",
    "        if action == 'LEFT': return (x - 1, y)\n",
    "        if action == 'RIGHT': return (x + 1, y)\n",
    "        return pos\n",
    "\n"
   ]
  },
  {
   "cell_type": "code",
   "execution_count": 5,
   "metadata": {},
   "outputs": [],
   "source": [
    "# Cell 4: Test the implementation\n",
    "import matplotlib.pyplot as plt\n",
    "import time\n",
    "\n",
    "def create_simple_game_state(mcts):\n",
    "    observation,info = mcts.env.reset()\n",
    "    plt.figure(figsize=(8, 6))\n",
    "    plt.imshow(observation)\n",
    "    plt.axis('off')\n",
    "    # plt.close()\n",
    "    time.sleep(0.1)  # Add delay to make it viewable\n",
    "    return observation,info\n",
    "\n",
    "\n"
   ]
  },
  {
   "cell_type": "code",
   "execution_count": 6,
   "metadata": {},
   "outputs": [],
   "source": [
    "# Cell 5: Run simulation\n",
    "from IPython import display\n",
    "def run_simulation(num_episodes=5, max_steps=100, render=True):\n",
    "    mcts = PacmanMCTS(exploration_weight=1.4)\n",
    "    all_rewards = []\n",
    "    \n",
    "    for episode in range(num_episodes):\n",
    "        observation, info = create_simple_game_state(mcts)\n",
    "        total_reward = 0\n",
    "        \n",
    "        print(f\"\\nEpisode {episode + 1}\")\n",
    "        print(f\"Initial Info: {info}\")\n",
    "        \n",
    "        for step in range(max_steps):\n",
    "            # Random action\n",
    "            action = mcts.action_space.sample()\n",
    "            \n",
    "            observation, reward, terminated, truncated, info = mcts.env.step(action)\n",
    "            state\n",
    "            total_reward += reward\n",
    "            \n",
    "            # Render if requested\n",
    "            if render:\n",
    "                plt.figure(figsize=(8, 6))\n",
    "                plt.imshow(observation)\n",
    "                plt.axis('off')\n",
    "               \n",
    "                display.clear_output(wait=True)\n",
    "                display.display(plt.gcf())\n",
    "                plt.close()\n",
    "                time.sleep(0.1)  # Add delay to make it viewable\n",
    "        \n",
    "            if terminated or truncated:\n",
    "                break\n",
    "                \n",
    "        print(f\"Episode {episode + 1} finished with total reward: {total_reward}\")\n",
    "        all_rewards.append(total_reward)\n",
    "    \n",
    "    return all_rewards\n"
   ]
  },
  {
   "cell_type": "code",
   "execution_count": 7,
   "metadata": {},
   "outputs": [
    {
     "name": "stdout",
     "output_type": "stream",
     "text": [
      "Discrete(5)\n",
      "Box(0, 255, (250, 160, 3), uint8)\n",
      "doing simulate\n"
     ]
    },
    {
     "ename": "AttributeError",
     "evalue": "'PacmanNode' object has no attribute 'reward'",
     "output_type": "error",
     "traceback": [
      "\u001b[0;31m---------------------------------------------------------------------------\u001b[0m",
      "\u001b[0;31mAttributeError\u001b[0m                            Traceback (most recent call last)",
      "Cell \u001b[0;32mIn[7], line 16\u001b[0m\n\u001b[1;32m     14\u001b[0m root \u001b[38;5;241m=\u001b[39m PacmanNode(initial_state)\n\u001b[1;32m     15\u001b[0m root\u001b[38;5;241m.\u001b[39mset_possible_actions(mcts\u001b[38;5;241m.\u001b[39maction_space)\n\u001b[0;32m---> 16\u001b[0m \u001b[43mmontecarlo_tree_search\u001b[49m\u001b[43m(\u001b[49m\u001b[43mmcts\u001b[49m\u001b[43m,\u001b[49m\u001b[43m \u001b[49m\u001b[43mroot\u001b[49m\u001b[43m,\u001b[49m\u001b[43m \u001b[49m\u001b[38;5;241;43m10\u001b[39;49m\u001b[43m)\u001b[49m\n",
      "Cell \u001b[0;32mIn[7], line 4\u001b[0m, in \u001b[0;36mmontecarlo_tree_search\u001b[0;34m(mcts, node, depth)\u001b[0m\n\u001b[1;32m      2\u001b[0m \u001b[38;5;28;01mif\u001b[39;00m depth \u001b[38;5;241m==\u001b[39m \u001b[38;5;241m0\u001b[39m \u001b[38;5;129;01mor\u001b[39;00m node\u001b[38;5;241m.\u001b[39mis_terminal():\n\u001b[1;32m      3\u001b[0m     \u001b[38;5;28mprint\u001b[39m(\u001b[38;5;124mf\u001b[39m\u001b[38;5;124m'\u001b[39m\u001b[38;5;124mdoing simulate\u001b[39m\u001b[38;5;124m'\u001b[39m)\n\u001b[0;32m----> 4\u001b[0m     \u001b[38;5;28;01mreturn\u001b[39;00m \u001b[43mmcts\u001b[49m\u001b[38;5;241;43m.\u001b[39;49m\u001b[43m_simulate\u001b[49m\u001b[43m(\u001b[49m\u001b[43mnode\u001b[49m\u001b[43m)\u001b[49m\n\u001b[1;32m      5\u001b[0m \u001b[38;5;28mprint\u001b[39m(\u001b[38;5;124mf\u001b[39m\u001b[38;5;124m'\u001b[39m\u001b[38;5;124mdoing child\u001b[39m\u001b[38;5;124m'\u001b[39m)\n\u001b[1;32m      6\u001b[0m child \u001b[38;5;241m=\u001b[39m mcts\u001b[38;5;241m.\u001b[39m_expand(node)\n",
      "File \u001b[0;32m~/Library/Mobile Documents/com~apple~CloudDocs/Acads/Sem-1/687-Reinforcement Learning/project/Montecarlotree.py:68\u001b[0m, in \u001b[0;36mMCTS._simulate\u001b[0;34m(self, node)\u001b[0m\n\u001b[1;32m     66\u001b[0m     action \u001b[38;5;241m=\u001b[39m \u001b[38;5;28mself\u001b[39m\u001b[38;5;241m.\u001b[39m_rollout_policy(current_state)\n\u001b[1;32m     67\u001b[0m     current_state \u001b[38;5;241m=\u001b[39m \u001b[38;5;28mself\u001b[39m\u001b[38;5;241m.\u001b[39m_get_next_state(current_state, action)\n\u001b[0;32m---> 68\u001b[0m \u001b[38;5;28;01mreturn\u001b[39;00m \u001b[43mnode\u001b[49m\u001b[38;5;241;43m.\u001b[39;49m\u001b[43mget_reward\u001b[49m\u001b[43m(\u001b[49m\u001b[43m)\u001b[49m\n",
      "File \u001b[0;32m~/Library/Mobile Documents/com~apple~CloudDocs/Acads/Sem-1/687-Reinforcement Learning/project/Montecarlotree.py:24\u001b[0m, in \u001b[0;36mNode.get_reward\u001b[0;34m(self)\u001b[0m\n\u001b[1;32m     22\u001b[0m \u001b[38;5;28;01mdef\u001b[39;00m \u001b[38;5;21mget_reward\u001b[39m(\u001b[38;5;28mself\u001b[39m) \u001b[38;5;241m-\u001b[39m\u001b[38;5;241m>\u001b[39m \u001b[38;5;28mfloat\u001b[39m:\n\u001b[1;32m     23\u001b[0m     \u001b[38;5;66;03m# Return reward from environment\u001b[39;00m\n\u001b[0;32m---> 24\u001b[0m     \u001b[38;5;28;01mreturn\u001b[39;00m \u001b[38;5;28;43mself\u001b[39;49m\u001b[38;5;241;43m.\u001b[39;49m\u001b[43mreward\u001b[49m\n",
      "\u001b[0;31mAttributeError\u001b[0m: 'PacmanNode' object has no attribute 'reward'"
     ]
    }
   ],
   "source": [
    "def montecarlo_tree_search(mcts, node, depth):\n",
    "    if depth == 0 or node.is_terminal():\n",
    "        print(f'doing simulate')\n",
    "        return mcts._simulate(node)\n",
    "    print(f'doing child')\n",
    "    child = mcts._expand(node)\n",
    "    print(f'doing simulate')\n",
    "    reward = mcts._simulate(child)\n",
    "    print(f'doing backpropagate')\n",
    "    mcts._backpropagate(child, reward)\n",
    "    return reward\n",
    "mcts= PacmanMCTS(exploration_weight=1.4)\n",
    "initial_state, info = mcts.env.reset()\n",
    "root = PacmanNode(initial_state)\n",
    "root.set_possible_actions(mcts.action_space)\n",
    "montecarlo_tree_search(mcts, root, 10)\n"
   ]
  },
  {
   "cell_type": "code",
   "execution_count": null,
   "metadata": {},
   "outputs": [],
   "source": []
  },
  {
   "cell_type": "code",
   "execution_count": null,
   "metadata": {},
   "outputs": [],
   "source": [
    "def run_mcts(mcts, initial_state, max_depth=10):\n",
    "    root = PacmanNode(initial_state)\n",
    "    root.set_possible_actions(mcts.action_space)\n",
    "    for _ in range(max_depth):\n",
    "        montecarlo_tree_search(mcts, root, _)\n",
    "    return root\n",
    "\n",
    "mcts = PacmanMCTS(exploration_weight=1.4)\n",
    "initial_state, info = mcts.env.reset()\n",
    "run_mcts(mcts, initial_state)"
   ]
  },
  {
   "cell_type": "code",
   "execution_count": null,
   "metadata": {},
   "outputs": [],
   "source": [
    "#"
   ]
  }
 ],
 "metadata": {
  "kernelspec": {
   "display_name": "Python 3",
   "language": "python",
   "name": "python3"
  },
  "language_info": {
   "codemirror_mode": {
    "name": "ipython",
    "version": 3
   },
   "file_extension": ".py",
   "mimetype": "text/x-python",
   "name": "python",
   "nbconvert_exporter": "python",
   "pygments_lexer": "ipython3",
   "version": "3.9.6"
  }
 },
 "nbformat": 4,
 "nbformat_minor": 2
}
