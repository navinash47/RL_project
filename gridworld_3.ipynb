{
 "cells": [
  {
   "cell_type": "code",
   "execution_count": 1,
   "metadata": {},
   "outputs": [],
   "source": [
    "import numpy as np\n",
    "import matplotlib.pyplot as plt\n",
    "from catvsmonsters import catVsMonsters\n",
    "from grid_world import GridWorld"
   ]
  },
  {
   "cell_type": "code",
   "execution_count": 2,
   "metadata": {},
   "outputs": [],
   "source": [
    "import time\n",
    "from tqdm import tqdm\n",
    "class Node:\n",
    "    def __init__(self, state, parent=None):\n",
    "        self.state = state\n",
    "        self.parent = parent\n",
    "        self.children = []\n",
    "        self.visits = 0\n",
    "        self.value = 0.0\n",
    "\n",
    "class MonteCarloSearchTree:\n",
    "    def __init__(self, env):\n",
    "        self.env = env\n",
    "        self.root = Node((0,0))\n",
    "        self.depth_limit = 200\n",
    "        self.c = 2\n",
    "        self.gamma = 0.9\n",
    "\n",
    "    def _selection(self, node):\n",
    "        while len(node.children) > 0:\n",
    "            ucb_values = [self._ucb(child, node.visits) for child in node.children]\n",
    "            node = node.children[np.argmax(ucb_values)]\n",
    "        return node\n",
    "\n",
    "    def _ucb(self, child, parent_visits):\n",
    "        if child.visits == 0:\n",
    "            return float('inf')\n",
    "        exploitation = child.value / child.visits\n",
    "        exploration = self.c * np.sqrt(np.log(parent_visits) / child.visits)\n",
    "        return exploitation + exploration\n",
    "\n",
    "    def _expansion(self, node):\n",
    "        for action in self.env.actions:\n",
    "            next_state = self.env.get_next_state(node.state, action)\n",
    "            child = Node(next_state, parent=node)\n",
    "            node.children.append(child)\n",
    "        return node\n",
    "\n",
    "    def _simulation(self, node):\n",
    "        # Save the original state\n",
    "        original_state = self.env.current_state\n",
    "        \n",
    "        # Set environment to node's state\n",
    "        self.env.current_state = node.state\n",
    "        current_state = node.state\n",
    "        total_reward = 0\n",
    "        depth = 0\n",
    "        \n",
    "        while current_state not in [self.env.goal] and depth < self.depth_limit:\n",
    "            action = np.random.choice(self.env.actions)\n",
    "            next_state, reward, done = self.env.step(action)\n",
    "            total_reward += (self.gamma ** depth) * reward\n",
    "            current_state = next_state\n",
    "            depth += 1\n",
    "            if done:\n",
    "                break\n",
    "        \n",
    "        # Restore the original state\n",
    "        self.env.current_state = original_state\n",
    "        return total_reward\n",
    "\n",
    "    def _backpropagation(self, node, reward):\n",
    "        while node is not None:\n",
    "            node.visits += 1\n",
    "            # Update to use average values instead of cumulative\n",
    "            node.value = (node.value * (node.visits - 1) + reward) / node.visits\n",
    "            reward = reward * self.gamma\n",
    "            node = node.parent\n",
    "\n",
    "    def get_best_action(self, iterations,min_visits=1):\n",
    "        iteration_count = 0\n",
    "        visits_completed= False\n",
    "\n",
    "        for _ in range(iterations):\n",
    "            leaf = self._selection(self.root)\n",
    "            if leaf.state == self.env.goal:\n",
    "                self._backpropagation(leaf, 0)\n",
    "                continue\n",
    "            if leaf.visits == 0:\n",
    "                leaf = self._expansion(leaf)\n",
    "            simulation_result = self._simulation(leaf)\n",
    "            self._backpropagation(leaf, simulation_result)\n",
    "        \n",
    "        # Calculate values for each action\n",
    "        values = []\n",
    "        for action in self.env.actions:\n",
    "            next_state = self.env.get_next_state(self.root.state, action)\n",
    "            for child in self.root.children:\n",
    "                \n",
    "                if child.state == next_state:\n",
    "                    values.append(child.value)\n",
    "                    break\n",
    "        return np.exp(values)/np.sum(np.exp(values)), max(values)\n"
   ]
  },
  {
   "cell_type": "code",
   "execution_count": 3,
   "metadata": {},
   "outputs": [
    {
     "name": "stderr",
     "output_type": "stream",
     "text": [
      " 20%|██        | 1/5 [00:00<00:01,  2.05it/s]"
     ]
    },
    {
     "name": "stdout",
     "output_type": "stream",
     "text": [
      "budget: 500, optimal_value: -3.2587654959592856, optimal_action: 3\n"
     ]
    },
    {
     "name": "stderr",
     "output_type": "stream",
     "text": [
      " 60%|██████    | 3/5 [00:01<00:00,  2.06it/s]"
     ]
    },
    {
     "name": "stdout",
     "output_type": "stream",
     "text": [
      "budget: 500, optimal_value: -2.41223092694093, optimal_action: 0\n",
      "budget: 500, optimal_value: -2.9837404050961265, optimal_action: 1\n"
     ]
    },
    {
     "name": "stderr",
     "output_type": "stream",
     "text": [
      " 80%|████████  | 4/5 [00:01<00:00,  2.14it/s]"
     ]
    },
    {
     "name": "stdout",
     "output_type": "stream",
     "text": [
      "budget: 500, optimal_value: -2.887756553630211, optimal_action: 0\n"
     ]
    },
    {
     "name": "stderr",
     "output_type": "stream",
     "text": [
      "100%|██████████| 5/5 [00:02<00:00,  2.13it/s]\n"
     ]
    },
    {
     "name": "stdout",
     "output_type": "stream",
     "text": [
      "budget: 500, optimal_value: -3.354269234458841, optimal_action: 1\n"
     ]
    },
    {
     "name": "stderr",
     "output_type": "stream",
     "text": [
      " 20%|██        | 1/5 [00:00<00:03,  1.03it/s]"
     ]
    },
    {
     "name": "stdout",
     "output_type": "stream",
     "text": [
      "budget: 1000, optimal_value: -2.3778538209742166, optimal_action: 0\n"
     ]
    },
    {
     "name": "stderr",
     "output_type": "stream",
     "text": [
      " 40%|████      | 2/5 [00:01<00:02,  1.07it/s]"
     ]
    },
    {
     "name": "stdout",
     "output_type": "stream",
     "text": [
      "budget: 1000, optimal_value: -2.3459325531159094, optimal_action: 0\n"
     ]
    },
    {
     "name": "stderr",
     "output_type": "stream",
     "text": [
      " 60%|██████    | 3/5 [00:02<00:01,  1.10it/s]"
     ]
    },
    {
     "name": "stdout",
     "output_type": "stream",
     "text": [
      "budget: 1000, optimal_value: -2.615191639407085, optimal_action: 1\n"
     ]
    },
    {
     "name": "stderr",
     "output_type": "stream",
     "text": [
      " 80%|████████  | 4/5 [00:03<00:00,  1.06it/s]"
     ]
    },
    {
     "name": "stdout",
     "output_type": "stream",
     "text": [
      "budget: 1000, optimal_value: -2.952014484334338, optimal_action: 3\n"
     ]
    },
    {
     "name": "stderr",
     "output_type": "stream",
     "text": [
      "100%|██████████| 5/5 [00:04<00:00,  1.05it/s]\n"
     ]
    },
    {
     "name": "stdout",
     "output_type": "stream",
     "text": [
      "budget: 1000, optimal_value: -2.7094019617280223, optimal_action: 1\n"
     ]
    },
    {
     "name": "stderr",
     "output_type": "stream",
     "text": [
      " 20%|██        | 1/5 [00:08<00:32,  8.07s/it]"
     ]
    },
    {
     "name": "stdout",
     "output_type": "stream",
     "text": [
      "budget: 10000, optimal_value: -2.122848305817641, optimal_action: 3\n"
     ]
    },
    {
     "name": "stderr",
     "output_type": "stream",
     "text": [
      " 40%|████      | 2/5 [00:16<00:24,  8.30s/it]"
     ]
    },
    {
     "name": "stdout",
     "output_type": "stream",
     "text": [
      "budget: 10000, optimal_value: -1.6924957342587341, optimal_action: 3\n"
     ]
    },
    {
     "name": "stderr",
     "output_type": "stream",
     "text": [
      " 60%|██████    | 3/5 [00:24<00:16,  8.09s/it]"
     ]
    },
    {
     "name": "stdout",
     "output_type": "stream",
     "text": [
      "budget: 10000, optimal_value: -1.7005798413999995, optimal_action: 3\n"
     ]
    },
    {
     "name": "stderr",
     "output_type": "stream",
     "text": [
      " 80%|████████  | 4/5 [00:31<00:07,  7.85s/it]"
     ]
    },
    {
     "name": "stdout",
     "output_type": "stream",
     "text": [
      "budget: 10000, optimal_value: -1.9717335399337124, optimal_action: 3\n"
     ]
    },
    {
     "name": "stderr",
     "output_type": "stream",
     "text": [
      "100%|██████████| 5/5 [00:39<00:00,  7.87s/it]\n"
     ]
    },
    {
     "name": "stdout",
     "output_type": "stream",
     "text": [
      "budget: 10000, optimal_value: -2.0442268646922948, optimal_action: 0\n"
     ]
    },
    {
     "name": "stderr",
     "output_type": "stream",
     "text": [
      " 20%|██        | 1/5 [01:18<05:15, 78.86s/it]"
     ]
    },
    {
     "name": "stdout",
     "output_type": "stream",
     "text": [
      "budget: 100000, optimal_value: -1.4428611733145484, optimal_action: 1\n"
     ]
    },
    {
     "name": "stderr",
     "output_type": "stream",
     "text": [
      " 40%|████      | 2/5 [02:32<03:47, 75.81s/it]"
     ]
    },
    {
     "name": "stdout",
     "output_type": "stream",
     "text": [
      "budget: 100000, optimal_value: -1.331661480886544, optimal_action: 3\n"
     ]
    },
    {
     "name": "stderr",
     "output_type": "stream",
     "text": [
      " 60%|██████    | 3/5 [03:49<02:32, 76.14s/it]"
     ]
    },
    {
     "name": "stdout",
     "output_type": "stream",
     "text": [
      "budget: 100000, optimal_value: -1.56405973167668, optimal_action: 3\n"
     ]
    },
    {
     "name": "stderr",
     "output_type": "stream",
     "text": [
      " 80%|████████  | 4/5 [05:07<01:17, 77.18s/it]"
     ]
    },
    {
     "name": "stdout",
     "output_type": "stream",
     "text": [
      "budget: 100000, optimal_value: -1.2759916325044622, optimal_action: 3\n"
     ]
    },
    {
     "name": "stderr",
     "output_type": "stream",
     "text": [
      "100%|██████████| 5/5 [06:27<00:00, 77.58s/it]"
     ]
    },
    {
     "name": "stdout",
     "output_type": "stream",
     "text": [
      "budget: 100000, optimal_value: -1.4877523914761293, optimal_action: 3\n"
     ]
    },
    {
     "name": "stderr",
     "output_type": "stream",
     "text": [
      "\n"
     ]
    },
    {
     "data": {
      "image/png": "[encoded data removed]",
      "text/plain": [
       "<Figure size 640x480 with 1 Axes>"
      ]
     },
     "metadata": {},
     "output_type": "display_data"
    }
   ],
   "source": [
    "def plot_graph_for_test(env,min_visits=1000):\n",
    "    mcts = MonteCarloSearchTree(env)\n",
    "    mins={}\n",
    "    maxs={}\n",
    "    avgs={}\n",
    "    budget=[500,1000,10000,100000]\n",
    "    probs_pi_dict={}\n",
    "    # time_slots=[1,5,10,50,100]\n",
    "    for b in budget:\n",
    "        min_value = float('inf')\n",
    "        max_value = float('-inf')\n",
    "        avg_value = 0\n",
    "        avg_iteration = 0\n",
    "        avg_pi=None\n",
    "        for i in tqdm(range(5)):\n",
    "            env.reset()\n",
    "            mcts.root = Node((0,0))\n",
    "            probs_pi,optimal_value = mcts.get_best_action(b,min_visits=min_visits)\n",
    "            optimal_action = np.argmax(probs_pi)\n",
    "            print(f'budget: {b}, optimal_value: {optimal_value}, optimal_action: {optimal_action}')\n",
    "            min_value = min(min_value, optimal_value)\n",
    "            max_value = max(max_value, optimal_value)\n",
    "            avg_value += optimal_value\n",
    "            if avg_pi is None:\n",
    "                avg_pi = probs_pi\n",
    "            else:\n",
    "                avg_pi += probs_pi\n",
    "        avg_pi /= 5\n",
    "        probs_pi_dict[b] = avg_pi/5\n",
    "        avg_value /= 5\n",
    "\n",
    "        mins[b] = min_value\n",
    "        maxs[b] = max_value\n",
    "        avgs[b] = avg_value\n",
    "    \n",
    "    return mins,maxs,avgs,budget\n",
    "\n",
    "\n",
    "cat_dynamics = catVsMonsters()\n",
    "# cat_dynamics.current_state = (0,4)\n",
    "mins_cat,maxs_cat, avgs_cat, iterations_cat = plot_graph_for_test(cat_dynamics,min_visits=1)\n",
    "\n",
    "import matplotlib.pyplot as plt\n",
    "# plot with time slots\n",
    "#  and range  in lighter blue and avg in darker blue\n",
    "x_values = [500,1000,10000,100000]\n",
    "y_values =list(avgs_cat.values())\n",
    "plt.plot(x_values,y_values,label='avg')\n",
    "plt.fill_between(x_values,list(mins_cat.values()),list(maxs_cat.values()),alpha=0.5)\n",
    "plt.legend()\n",
    "# plt.xscale('log')\n",
    "plt.show()\n"
   ]
  },
  {
   "cell_type": "code",
   "execution_count": 4,
   "metadata": {},
   "outputs": [
    {
     "name": "stderr",
     "output_type": "stream",
     "text": [
      "inner loop: 100%|██████████| 10/10 [01:25<00:00,  8.58s/it]\n",
      "outer loop:   4%|▍         | 1/25 [01:25<34:19, 85.81s/it]"
     ]
    },
    {
     "name": "stdout",
     "output_type": "stream",
     "text": [
      "\n",
      "state: (0, 0), action_count: [1, 5, 0, 4], pi_cat[(i,j)]: 1\n",
      "--------------------------------\n"
     ]
    },
    {
     "name": "stderr",
     "output_type": "stream",
     "text": [
      "inner loop: 100%|██████████| 10/10 [01:31<00:00,  9.13s/it]\n",
      "outer loop:   8%|▊         | 2/25 [02:57<34:08, 89.07s/it]"
     ]
    },
    {
     "name": "stdout",
     "output_type": "stream",
     "text": [
      "\n",
      "state: (0, 1), action_count: [3, 3, 0, 4], pi_cat[(i,j)]: 3\n",
      "--------------------------------\n"
     ]
    },
    {
     "name": "stderr",
     "output_type": "stream",
     "text": [
      "inner loop: 100%|██████████| 10/10 [01:20<00:00,  8.04s/it]\n",
      "outer loop:  12%|█▏        | 3/25 [04:17<31:12, 85.12s/it]"
     ]
    },
    {
     "name": "stdout",
     "output_type": "stream",
     "text": [
      "\n",
      "state: (0, 2), action_count: [1, 3, 5, 1], pi_cat[(i,j)]: 2\n",
      "--------------------------------\n"
     ]
    },
    {
     "name": "stderr",
     "output_type": "stream",
     "text": [
      "inner loop: 100%|██████████| 10/10 [01:07<00:00,  6.73s/it]\n",
      "outer loop:  16%|█▌        | 4/25 [05:24<27:19, 78.07s/it]"
     ]
    },
    {
     "name": "stdout",
     "output_type": "stream",
     "text": [
      "\n",
      "state: (0, 3), action_count: [2, 3, 2, 3], pi_cat[(i,j)]: 1\n",
      "--------------------------------\n"
     ]
    },
    {
     "name": "stderr",
     "output_type": "stream",
     "text": [
      "inner loop: 100%|██████████| 10/10 [00:53<00:00,  5.31s/it]\n",
      "outer loop:  20%|██        | 5/25 [06:17<23:01, 69.05s/it]"
     ]
    },
    {
     "name": "stdout",
     "output_type": "stream",
     "text": [
      "\n",
      "state: (0, 4), action_count: [2, 5, 3, 0], pi_cat[(i,j)]: 1\n",
      "--------------------------------\n"
     ]
    },
    {
     "name": "stderr",
     "output_type": "stream",
     "text": [
      "inner loop: 100%|██████████| 10/10 [01:25<00:00,  8.57s/it]\n",
      "outer loop:  24%|██▍       | 6/25 [07:43<23:39, 74.73s/it]"
     ]
    },
    {
     "name": "stdout",
     "output_type": "stream",
     "text": [
      "\n",
      "state: (1, 0), action_count: [3, 3, 2, 2], pi_cat[(i,j)]: 0\n",
      "--------------------------------\n"
     ]
    },
    {
     "name": "stderr",
     "output_type": "stream",
     "text": [
      "inner loop: 100%|██████████| 10/10 [02:10<00:00, 13.10s/it]\n",
      "outer loop:  28%|██▊       | 7/25 [09:54<27:56, 93.11s/it]"
     ]
    },
    {
     "name": "stdout",
     "output_type": "stream",
     "text": [
      "\n",
      "state: (1, 1), action_count: [4, 2, 2, 2], pi_cat[(i,j)]: 0\n",
      "--------------------------------\n"
     ]
    },
    {
     "name": "stderr",
     "output_type": "stream",
     "text": [
      "inner loop: 100%|██████████| 10/10 [02:03<00:00, 12.37s/it]\n",
      "outer loop:  32%|███▏      | 8/25 [11:58<29:08, 102.86s/it]"
     ]
    },
    {
     "name": "stdout",
     "output_type": "stream",
     "text": [
      "\n",
      "state: (1, 2), action_count: [2, 4, 1, 3], pi_cat[(i,j)]: 1\n",
      "--------------------------------\n"
     ]
    },
    {
     "name": "stderr",
     "output_type": "stream",
     "text": [
      "inner loop: 100%|██████████| 10/10 [01:45<00:00, 10.59s/it]\n",
      "outer loop:  36%|███▌      | 9/25 [13:44<27:40, 103.80s/it]"
     ]
    },
    {
     "name": "stdout",
     "output_type": "stream",
     "text": [
      "\n",
      "state: (1, 3), action_count: [3, 0, 5, 2], pi_cat[(i,j)]: 2\n",
      "--------------------------------\n"
     ]
    },
    {
     "name": "stderr",
     "output_type": "stream",
     "text": [
      "inner loop: 100%|██████████| 10/10 [00:54<00:00,  5.46s/it]\n",
      "outer loop:  40%|████      | 10/25 [14:38<22:09, 88.62s/it]"
     ]
    },
    {
     "name": "stdout",
     "output_type": "stream",
     "text": [
      "\n",
      "state: (1, 4), action_count: [2, 5, 0, 3], pi_cat[(i,j)]: 1\n",
      "--------------------------------\n"
     ]
    },
    {
     "name": "stderr",
     "output_type": "stream",
     "text": [
      "inner loop: 100%|██████████| 10/10 [02:06<00:00, 12.63s/it]\n",
      "outer loop:  44%|████▍     | 11/25 [16:45<23:22, 100.15s/it]"
     ]
    },
    {
     "name": "stdout",
     "output_type": "stream",
     "text": [
      "\n",
      "state: (2, 0), action_count: [1, 6, 3, 0], pi_cat[(i,j)]: 1\n",
      "--------------------------------\n"
     ]
    },
    {
     "name": "stderr",
     "output_type": "stream",
     "text": [
      "inner loop: 100%|██████████| 10/10 [00:00<00:00, 263792.70it/s]\n",
      "inner loop: 100%|██████████| 10/10 [00:00<00:00, 208671.84it/s]\n",
      "inner loop: 100%|██████████| 10/10 [00:00<00:00, 211833.54it/s]\n",
      "inner loop: 100%|██████████| 10/10 [00:36<00:00,  3.61s/it]\n",
      "outer loop:  60%|██████    | 15/25 [17:21<07:01, 42.17s/it] "
     ]
    },
    {
     "name": "stdout",
     "output_type": "stream",
     "text": [
      "\n",
      "state: (2, 4), action_count: [1, 8, 1, 0], pi_cat[(i,j)]: 1\n",
      "--------------------------------\n"
     ]
    },
    {
     "name": "stderr",
     "output_type": "stream",
     "text": [
      "inner loop: 100%|██████████| 10/10 [02:08<00:00, 12.82s/it]\n",
      "outer loop:  64%|██████▍   | 16/25 [19:29<08:42, 58.10s/it]"
     ]
    },
    {
     "name": "stdout",
     "output_type": "stream",
     "text": [
      "\n",
      "state: (3, 0), action_count: [3, 3, 2, 2], pi_cat[(i,j)]: 0\n",
      "--------------------------------\n"
     ]
    },
    {
     "name": "stderr",
     "output_type": "stream",
     "text": [
      "inner loop: 100%|██████████| 10/10 [01:48<00:00, 10.84s/it]\n",
      "outer loop:  68%|██████▊   | 17/25 [21:17<09:08, 68.61s/it]"
     ]
    },
    {
     "name": "stdout",
     "output_type": "stream",
     "text": [
      "\n",
      "state: (3, 1), action_count: [1, 4, 5, 0], pi_cat[(i,j)]: 2\n",
      "--------------------------------\n"
     ]
    },
    {
     "name": "stderr",
     "output_type": "stream",
     "text": [
      "inner loop: 100%|██████████| 10/10 [00:00<00:00, 226719.14it/s]\n",
      "inner loop: 100%|██████████| 10/10 [00:19<00:00,  1.98s/it]\n",
      "outer loop:  76%|███████▌  | 19/25 [21:37<04:39, 46.65s/it]"
     ]
    },
    {
     "name": "stdout",
     "output_type": "stream",
     "text": [
      "\n",
      "state: (3, 3), action_count: [7, 3, 0, 0], pi_cat[(i,j)]: 0\n",
      "--------------------------------\n"
     ]
    },
    {
     "name": "stderr",
     "output_type": "stream",
     "text": [
      "inner loop: 100%|██████████| 10/10 [00:12<00:00,  1.28s/it]\n",
      "outer loop:  80%|████████  | 20/25 [21:50<03:17, 39.50s/it]"
     ]
    },
    {
     "name": "stdout",
     "output_type": "stream",
     "text": [
      "\n",
      "state: (3, 4), action_count: [0, 3, 5, 2], pi_cat[(i,j)]: 2\n",
      "--------------------------------\n"
     ]
    },
    {
     "name": "stderr",
     "output_type": "stream",
     "text": [
      "inner loop: 100%|██████████| 10/10 [01:05<00:00,  6.56s/it]\n",
      "outer loop:  84%|████████▍ | 21/25 [22:55<03:02, 45.54s/it]"
     ]
    },
    {
     "name": "stdout",
     "output_type": "stream",
     "text": [
      "\n",
      "state: (4, 0), action_count: [6, 2, 0, 2], pi_cat[(i,j)]: 0\n",
      "--------------------------------\n"
     ]
    },
    {
     "name": "stderr",
     "output_type": "stream",
     "text": [
      "inner loop: 100%|██████████| 10/10 [00:54<00:00,  5.40s/it]\n",
      "outer loop:  88%|████████▊ | 22/25 [23:49<02:22, 47.65s/it]"
     ]
    },
    {
     "name": "stdout",
     "output_type": "stream",
     "text": [
      "\n",
      "state: (4, 1), action_count: [1, 3, 3, 3], pi_cat[(i,j)]: 1\n",
      "--------------------------------\n"
     ]
    },
    {
     "name": "stderr",
     "output_type": "stream",
     "text": [
      "inner loop: 100%|██████████| 10/10 [00:19<00:00,  1.94s/it]\n",
      "outer loop:  92%|█████████▏| 23/25 [24:09<01:20, 40.25s/it]"
     ]
    },
    {
     "name": "stdout",
     "output_type": "stream",
     "text": [
      "\n",
      "state: (4, 2), action_count: [2, 0, 1, 7], pi_cat[(i,j)]: 3\n",
      "--------------------------------\n"
     ]
    },
    {
     "name": "stderr",
     "output_type": "stream",
     "text": [
      "inner loop: 100%|██████████| 10/10 [00:11<00:00,  1.15s/it]\n",
      "outer loop:  96%|█████████▌| 24/25 [24:20<00:32, 32.43s/it]"
     ]
    },
    {
     "name": "stdout",
     "output_type": "stream",
     "text": [
      "\n",
      "state: (4, 3), action_count: [8, 1, 0, 1], pi_cat[(i,j)]: 0\n",
      "--------------------------------\n"
     ]
    },
    {
     "name": "stderr",
     "output_type": "stream",
     "text": [
      "inner loop: 100%|██████████| 10/10 [00:00<00:00, 293307.97it/s]\n",
      "outer loop: 100%|██████████| 25/25 [24:20<00:00, 58.43s/it]\n"
     ]
    }
   ],
   "source": [
    "from tqdm import tqdm\n",
    "\n",
    "env_cat = catVsMonsters()\n",
    "mcts_cat = MonteCarloSearchTree(env_cat)\n",
    "probs_pi_cat={}\n",
    "pi_cat={}\n",
    "pi_cat_second={}\n",
    "for k in tqdm(range(25),desc='outer loop'):\n",
    "    i = k // 5\n",
    "    j = k % 5\n",
    "    action_count = [0,0,0,0]\n",
    "    for p in tqdm(range(10),desc='inner loop'):\n",
    "        if (i,j) not in env_cat.furniture and (i,j) != env_cat.goal:\n",
    "            env_cat.current_state = (i,j)\n",
    "            mcts_cat.root = Node((i,j))\n",
    "            probs_pi_cat[(i,j)],optimal_value= mcts_cat.get_best_action(10000,min_visits=2000)\n",
    "            optimal_action = np.argmax(probs_pi_cat[(i,j)])\n",
    "            action_count[optimal_action] += 1\n",
    "    if (i,j) not in env_cat.furniture and (i,j) != env_cat.goal:\n",
    "        pi_cat[(i,j)] = action_count.index(max(action_count))\n",
    "        print()\n",
    "        print(f'state: {(i,j)}, action_count: {action_count}, pi_cat[(i,j)]: {pi_cat[(i,j)]}')\n",
    "        print(f'--------------------------------')\n"
   ]
  },
  {
   "cell_type": "code",
   "execution_count": 5,
   "metadata": {},
   "outputs": [
    {
     "name": "stdout",
     "output_type": "stream",
     "text": [
      "↓ → ← ↓ ↓ \n",
      "↑ ↑ ↓ ← ↓ \n",
      "↓ F F F ↓ \n",
      "↑ ← F ↑ ← \n",
      "↑ ↓ → ↑ G \n"
     ]
    }
   ],
   "source": [
    "def print_policy(policy):\n",
    "    for i in range(5):\n",
    "        for j in range(5):\n",
    "            state = (i, j)\n",
    "            if state == env_cat.goal:\n",
    "                print(\"G\", end=\" \")\n",
    "                continue\n",
    "            elif state in env_cat.furniture:\n",
    "                print(\"F\", end=\" \")\n",
    "                continue\n",
    "            action = policy[state]\n",
    "            if action == 0:\n",
    "                print(\"↑\", end=\" \")\n",
    "            elif action == 1:\n",
    "                print(\"↓\", end=\" \")\n",
    "            elif action == 2:\n",
    "                print(\"←\", end=\" \")\n",
    "            elif action == 3:\n",
    "                print(\"→\", end=\" \")\n",
    "            else:\n",
    "                print(\" \", end=\" \")\n",
    "        print()\n",
    "\n",
    "print_policy(pi_cat)\n",
    "# print_policy(pi_cat_second)"
   ]
  },
  {
   "cell_type": "code",
   "execution_count": 7,
   "metadata": {},
   "outputs": [
    {
     "name": "stderr",
     "output_type": "stream",
     "text": [
      " 20%|██        | 1/5 [00:00<00:02,  1.54it/s]"
     ]
    },
    {
     "name": "stdout",
     "output_type": "stream",
     "text": [
      "budget: 500, optimal_value: -0.36437232757777693, optimal_action: 1\n"
     ]
    },
    {
     "name": "stderr",
     "output_type": "stream",
     "text": [
      " 40%|████      | 2/5 [00:01<00:01,  1.53it/s]"
     ]
    },
    {
     "name": "stdout",
     "output_type": "stream",
     "text": [
      "budget: 500, optimal_value: -0.5393953826083325, optimal_action: 3\n"
     ]
    },
    {
     "name": "stderr",
     "output_type": "stream",
     "text": [
      " 60%|██████    | 3/5 [00:01<00:01,  1.49it/s]"
     ]
    },
    {
     "name": "stdout",
     "output_type": "stream",
     "text": [
      "budget: 500, optimal_value: -0.4406885403125403, optimal_action: 3\n"
     ]
    },
    {
     "name": "stderr",
     "output_type": "stream",
     "text": [
      " 80%|████████  | 4/5 [00:02<00:00,  1.41it/s]"
     ]
    },
    {
     "name": "stdout",
     "output_type": "stream",
     "text": [
      "budget: 500, optimal_value: -0.4180063850625115, optimal_action: 3\n"
     ]
    },
    {
     "name": "stderr",
     "output_type": "stream",
     "text": [
      "100%|██████████| 5/5 [00:04<00:00,  1.25it/s]\n"
     ]
    },
    {
     "name": "stdout",
     "output_type": "stream",
     "text": [
      "budget: 500, optimal_value: -0.2737816736645009, optimal_action: 3\n"
     ]
    },
    {
     "name": "stderr",
     "output_type": "stream",
     "text": [
      " 20%|██        | 1/5 [00:01<00:06,  1.66s/it]"
     ]
    },
    {
     "name": "stdout",
     "output_type": "stream",
     "text": [
      "budget: 1000, optimal_value: -0.4987663434210376, optimal_action: 0\n"
     ]
    },
    {
     "name": "stderr",
     "output_type": "stream",
     "text": [
      " 40%|████      | 2/5 [00:03<00:04,  1.62s/it]"
     ]
    },
    {
     "name": "stdout",
     "output_type": "stream",
     "text": [
      "budget: 1000, optimal_value: -0.525005871684427, optimal_action: 3\n"
     ]
    },
    {
     "name": "stderr",
     "output_type": "stream",
     "text": [
      " 60%|██████    | 3/5 [00:04<00:03,  1.65s/it]"
     ]
    },
    {
     "name": "stdout",
     "output_type": "stream",
     "text": [
      "budget: 1000, optimal_value: -0.6221981896063989, optimal_action: 0\n"
     ]
    },
    {
     "name": "stderr",
     "output_type": "stream",
     "text": [
      " 80%|████████  | 4/5 [00:06<00:01,  1.52s/it]"
     ]
    },
    {
     "name": "stdout",
     "output_type": "stream",
     "text": [
      "budget: 1000, optimal_value: -0.3455706460538166, optimal_action: 3\n"
     ]
    },
    {
     "name": "stderr",
     "output_type": "stream",
     "text": [
      "100%|██████████| 5/5 [00:08<00:00,  1.63s/it]\n"
     ]
    },
    {
     "name": "stdout",
     "output_type": "stream",
     "text": [
      "budget: 1000, optimal_value: -0.5244425524917334, optimal_action: 3\n"
     ]
    },
    {
     "name": "stderr",
     "output_type": "stream",
     "text": [
      " 20%|██        | 1/5 [00:13<00:53, 13.48s/it]"
     ]
    },
    {
     "name": "stdout",
     "output_type": "stream",
     "text": [
      "budget: 10000, optimal_value: -0.31851325879795506, optimal_action: 3\n"
     ]
    },
    {
     "name": "stderr",
     "output_type": "stream",
     "text": [
      " 40%|████      | 2/5 [00:32<00:50, 16.70s/it]"
     ]
    },
    {
     "name": "stdout",
     "output_type": "stream",
     "text": [
      "budget: 10000, optimal_value: -0.3200996721519084, optimal_action: 3\n"
     ]
    },
    {
     "name": "stderr",
     "output_type": "stream",
     "text": [
      " 60%|██████    | 3/5 [00:48<00:32, 16.47s/it]"
     ]
    },
    {
     "name": "stdout",
     "output_type": "stream",
     "text": [
      "budget: 10000, optimal_value: -0.464997620408898, optimal_action: 3\n"
     ]
    },
    {
     "name": "stderr",
     "output_type": "stream",
     "text": [
      " 80%|████████  | 4/5 [01:05<00:16, 16.64s/it]"
     ]
    },
    {
     "name": "stdout",
     "output_type": "stream",
     "text": [
      "budget: 10000, optimal_value: -0.39442473459843225, optimal_action: 3\n"
     ]
    },
    {
     "name": "stderr",
     "output_type": "stream",
     "text": [
      "100%|██████████| 5/5 [01:22<00:00, 16.40s/it]\n"
     ]
    },
    {
     "name": "stdout",
     "output_type": "stream",
     "text": [
      "budget: 10000, optimal_value: -0.38427035859324016, optimal_action: 3\n"
     ]
    },
    {
     "name": "stderr",
     "output_type": "stream",
     "text": [
      " 20%|██        | 1/5 [02:20<09:23, 140.85s/it]"
     ]
    },
    {
     "name": "stdout",
     "output_type": "stream",
     "text": [
      "budget: 100000, optimal_value: -0.3486845599774954, optimal_action: 3\n"
     ]
    },
    {
     "name": "stderr",
     "output_type": "stream",
     "text": [
      " 40%|████      | 2/5 [04:31<06:44, 134.74s/it]"
     ]
    },
    {
     "name": "stdout",
     "output_type": "stream",
     "text": [
      "budget: 100000, optimal_value: -0.3042684005985209, optimal_action: 3\n"
     ]
    },
    {
     "name": "stderr",
     "output_type": "stream",
     "text": [
      " 60%|██████    | 3/5 [06:30<04:15, 127.68s/it]"
     ]
    },
    {
     "name": "stdout",
     "output_type": "stream",
     "text": [
      "budget: 100000, optimal_value: -0.3670844347133257, optimal_action: 3\n"
     ]
    },
    {
     "name": "stderr",
     "output_type": "stream",
     "text": [
      " 80%|████████  | 4/5 [08:30<02:04, 124.71s/it]"
     ]
    },
    {
     "name": "stdout",
     "output_type": "stream",
     "text": [
      "budget: 100000, optimal_value: -0.35395094484478234, optimal_action: 3\n"
     ]
    },
    {
     "name": "stderr",
     "output_type": "stream",
     "text": [
      "100%|██████████| 5/5 [10:35<00:00, 127.10s/it]"
     ]
    },
    {
     "name": "stdout",
     "output_type": "stream",
     "text": [
      "budget: 100000, optimal_value: -0.3728466870579714, optimal_action: 3\n"
     ]
    },
    {
     "name": "stderr",
     "output_type": "stream",
     "text": [
      "\n"
     ]
    },
    {
     "ename": "ValueError",
     "evalue": "x and y must have same first dimension, but have shapes (7,) and (4,)",
     "output_type": "error",
     "traceback": [
      "\u001b[0;31m---------------------------------------------------------------------------\u001b[0m",
      "\u001b[0;31mValueError\u001b[0m                                Traceback (most recent call last)",
      "Cell \u001b[0;32mIn[7], line 8\u001b[0m\n\u001b[1;32m      6\u001b[0m mins_grid,maxs_grid, avgs_grid, budget_grid \u001b[38;5;241m=\u001b[39m plot_graph_for_test(grid_world)\n\u001b[1;32m      7\u001b[0m y_values \u001b[38;5;241m=\u001b[39m\u001b[38;5;28mlist\u001b[39m(avgs_grid\u001b[38;5;241m.\u001b[39mvalues())\n\u001b[0;32m----> 8\u001b[0m \u001b[43mplt\u001b[49m\u001b[38;5;241;43m.\u001b[39;49m\u001b[43mplot\u001b[49m\u001b[43m(\u001b[49m\u001b[43mx_values\u001b[49m\u001b[43m,\u001b[49m\u001b[43my_values\u001b[49m\u001b[43m,\u001b[49m\u001b[43mlabel\u001b[49m\u001b[38;5;241;43m=\u001b[39;49m\u001b[38;5;124;43m'\u001b[39;49m\u001b[38;5;124;43mavg\u001b[39;49m\u001b[38;5;124;43m'\u001b[39;49m\u001b[43m)\u001b[49m\n\u001b[1;32m      9\u001b[0m plt\u001b[38;5;241m.\u001b[39mfill_between(x_values,\u001b[38;5;28mlist\u001b[39m(mins_grid\u001b[38;5;241m.\u001b[39mvalues()),\u001b[38;5;28mlist\u001b[39m(maxs_grid\u001b[38;5;241m.\u001b[39mvalues()),alpha\u001b[38;5;241m=\u001b[39m\u001b[38;5;241m0.5\u001b[39m)\n\u001b[1;32m     10\u001b[0m plt\u001b[38;5;241m.\u001b[39mlegend()\n",
      "File \u001b[0;32m~/Library/Python/3.9/lib/python/site-packages/matplotlib/pyplot.py:3794\u001b[0m, in \u001b[0;36mplot\u001b[0;34m(scalex, scaley, data, *args, **kwargs)\u001b[0m\n\u001b[1;32m   3786\u001b[0m \u001b[38;5;129m@_copy_docstring_and_deprecators\u001b[39m(Axes\u001b[38;5;241m.\u001b[39mplot)\n\u001b[1;32m   3787\u001b[0m \u001b[38;5;28;01mdef\u001b[39;00m \u001b[38;5;21mplot\u001b[39m(\n\u001b[1;32m   3788\u001b[0m     \u001b[38;5;241m*\u001b[39margs: \u001b[38;5;28mfloat\u001b[39m \u001b[38;5;241m|\u001b[39m ArrayLike \u001b[38;5;241m|\u001b[39m \u001b[38;5;28mstr\u001b[39m,\n\u001b[0;32m   (...)\u001b[0m\n\u001b[1;32m   3792\u001b[0m     \u001b[38;5;241m*\u001b[39m\u001b[38;5;241m*\u001b[39mkwargs,\n\u001b[1;32m   3793\u001b[0m ) \u001b[38;5;241m-\u001b[39m\u001b[38;5;241m>\u001b[39m \u001b[38;5;28mlist\u001b[39m[Line2D]:\n\u001b[0;32m-> 3794\u001b[0m     \u001b[38;5;28;01mreturn\u001b[39;00m \u001b[43mgca\u001b[49m\u001b[43m(\u001b[49m\u001b[43m)\u001b[49m\u001b[38;5;241;43m.\u001b[39;49m\u001b[43mplot\u001b[49m\u001b[43m(\u001b[49m\n\u001b[1;32m   3795\u001b[0m \u001b[43m        \u001b[49m\u001b[38;5;241;43m*\u001b[39;49m\u001b[43margs\u001b[49m\u001b[43m,\u001b[49m\n\u001b[1;32m   3796\u001b[0m \u001b[43m        \u001b[49m\u001b[43mscalex\u001b[49m\u001b[38;5;241;43m=\u001b[39;49m\u001b[43mscalex\u001b[49m\u001b[43m,\u001b[49m\n\u001b[1;32m   3797\u001b[0m \u001b[43m        \u001b[49m\u001b[43mscaley\u001b[49m\u001b[38;5;241;43m=\u001b[39;49m\u001b[43mscaley\u001b[49m\u001b[43m,\u001b[49m\n\u001b[1;32m   3798\u001b[0m \u001b[43m        \u001b[49m\u001b[38;5;241;43m*\u001b[39;49m\u001b[38;5;241;43m*\u001b[39;49m\u001b[43m(\u001b[49m\u001b[43m{\u001b[49m\u001b[38;5;124;43m\"\u001b[39;49m\u001b[38;5;124;43mdata\u001b[39;49m\u001b[38;5;124;43m\"\u001b[39;49m\u001b[43m:\u001b[49m\u001b[43m \u001b[49m\u001b[43mdata\u001b[49m\u001b[43m}\u001b[49m\u001b[43m \u001b[49m\u001b[38;5;28;43;01mif\u001b[39;49;00m\u001b[43m \u001b[49m\u001b[43mdata\u001b[49m\u001b[43m \u001b[49m\u001b[38;5;129;43;01mis\u001b[39;49;00m\u001b[43m \u001b[49m\u001b[38;5;129;43;01mnot\u001b[39;49;00m\u001b[43m \u001b[49m\u001b[38;5;28;43;01mNone\u001b[39;49;00m\u001b[43m \u001b[49m\u001b[38;5;28;43;01melse\u001b[39;49;00m\u001b[43m \u001b[49m\u001b[43m{\u001b[49m\u001b[43m}\u001b[49m\u001b[43m)\u001b[49m\u001b[43m,\u001b[49m\n\u001b[1;32m   3799\u001b[0m \u001b[43m        \u001b[49m\u001b[38;5;241;43m*\u001b[39;49m\u001b[38;5;241;43m*\u001b[39;49m\u001b[43mkwargs\u001b[49m\u001b[43m,\u001b[49m\n\u001b[1;32m   3800\u001b[0m \u001b[43m    \u001b[49m\u001b[43m)\u001b[49m\n",
      "File \u001b[0;32m~/Library/Python/3.9/lib/python/site-packages/matplotlib/axes/_axes.py:1779\u001b[0m, in \u001b[0;36mAxes.plot\u001b[0;34m(self, scalex, scaley, data, *args, **kwargs)\u001b[0m\n\u001b[1;32m   1536\u001b[0m \u001b[38;5;250m\u001b[39m\u001b[38;5;124;03m\"\"\"\u001b[39;00m\n\u001b[1;32m   1537\u001b[0m \u001b[38;5;124;03mPlot y versus x as lines and/or markers.\u001b[39;00m\n\u001b[1;32m   1538\u001b[0m \n\u001b[0;32m   (...)\u001b[0m\n\u001b[1;32m   1776\u001b[0m \u001b[38;5;124;03m(``'green'``) or hex strings (``'#008000'``).\u001b[39;00m\n\u001b[1;32m   1777\u001b[0m \u001b[38;5;124;03m\"\"\"\u001b[39;00m\n\u001b[1;32m   1778\u001b[0m kwargs \u001b[38;5;241m=\u001b[39m cbook\u001b[38;5;241m.\u001b[39mnormalize_kwargs(kwargs, mlines\u001b[38;5;241m.\u001b[39mLine2D)\n\u001b[0;32m-> 1779\u001b[0m lines \u001b[38;5;241m=\u001b[39m [\u001b[38;5;241m*\u001b[39m\u001b[38;5;28mself\u001b[39m\u001b[38;5;241m.\u001b[39m_get_lines(\u001b[38;5;28mself\u001b[39m, \u001b[38;5;241m*\u001b[39margs, data\u001b[38;5;241m=\u001b[39mdata, \u001b[38;5;241m*\u001b[39m\u001b[38;5;241m*\u001b[39mkwargs)]\n\u001b[1;32m   1780\u001b[0m \u001b[38;5;28;01mfor\u001b[39;00m line \u001b[38;5;129;01min\u001b[39;00m lines:\n\u001b[1;32m   1781\u001b[0m     \u001b[38;5;28mself\u001b[39m\u001b[38;5;241m.\u001b[39madd_line(line)\n",
      "File \u001b[0;32m~/Library/Python/3.9/lib/python/site-packages/matplotlib/axes/_base.py:296\u001b[0m, in \u001b[0;36m_process_plot_var_args.__call__\u001b[0;34m(self, axes, data, *args, **kwargs)\u001b[0m\n\u001b[1;32m    294\u001b[0m     this \u001b[38;5;241m+\u001b[39m\u001b[38;5;241m=\u001b[39m args[\u001b[38;5;241m0\u001b[39m],\n\u001b[1;32m    295\u001b[0m     args \u001b[38;5;241m=\u001b[39m args[\u001b[38;5;241m1\u001b[39m:]\n\u001b[0;32m--> 296\u001b[0m \u001b[38;5;28;01myield from\u001b[39;00m \u001b[38;5;28;43mself\u001b[39;49m\u001b[38;5;241;43m.\u001b[39;49m\u001b[43m_plot_args\u001b[49m\u001b[43m(\u001b[49m\n\u001b[1;32m    297\u001b[0m \u001b[43m    \u001b[49m\u001b[43maxes\u001b[49m\u001b[43m,\u001b[49m\u001b[43m \u001b[49m\u001b[43mthis\u001b[49m\u001b[43m,\u001b[49m\u001b[43m \u001b[49m\u001b[43mkwargs\u001b[49m\u001b[43m,\u001b[49m\u001b[43m \u001b[49m\u001b[43mambiguous_fmt_datakey\u001b[49m\u001b[38;5;241;43m=\u001b[39;49m\u001b[43mambiguous_fmt_datakey\u001b[49m\u001b[43m)\u001b[49m\n",
      "File \u001b[0;32m~/Library/Python/3.9/lib/python/site-packages/matplotlib/axes/_base.py:486\u001b[0m, in \u001b[0;36m_process_plot_var_args._plot_args\u001b[0;34m(self, axes, tup, kwargs, return_kwargs, ambiguous_fmt_datakey)\u001b[0m\n\u001b[1;32m    483\u001b[0m     axes\u001b[38;5;241m.\u001b[39myaxis\u001b[38;5;241m.\u001b[39mupdate_units(y)\n\u001b[1;32m    485\u001b[0m \u001b[38;5;28;01mif\u001b[39;00m x\u001b[38;5;241m.\u001b[39mshape[\u001b[38;5;241m0\u001b[39m] \u001b[38;5;241m!=\u001b[39m y\u001b[38;5;241m.\u001b[39mshape[\u001b[38;5;241m0\u001b[39m]:\n\u001b[0;32m--> 486\u001b[0m     \u001b[38;5;28;01mraise\u001b[39;00m \u001b[38;5;167;01mValueError\u001b[39;00m(\u001b[38;5;124mf\u001b[39m\u001b[38;5;124m\"\u001b[39m\u001b[38;5;124mx and y must have same first dimension, but \u001b[39m\u001b[38;5;124m\"\u001b[39m\n\u001b[1;32m    487\u001b[0m                      \u001b[38;5;124mf\u001b[39m\u001b[38;5;124m\"\u001b[39m\u001b[38;5;124mhave shapes \u001b[39m\u001b[38;5;132;01m{\u001b[39;00mx\u001b[38;5;241m.\u001b[39mshape\u001b[38;5;132;01m}\u001b[39;00m\u001b[38;5;124m and \u001b[39m\u001b[38;5;132;01m{\u001b[39;00my\u001b[38;5;241m.\u001b[39mshape\u001b[38;5;132;01m}\u001b[39;00m\u001b[38;5;124m\"\u001b[39m)\n\u001b[1;32m    488\u001b[0m \u001b[38;5;28;01mif\u001b[39;00m x\u001b[38;5;241m.\u001b[39mndim \u001b[38;5;241m>\u001b[39m \u001b[38;5;241m2\u001b[39m \u001b[38;5;129;01mor\u001b[39;00m y\u001b[38;5;241m.\u001b[39mndim \u001b[38;5;241m>\u001b[39m \u001b[38;5;241m2\u001b[39m:\n\u001b[1;32m    489\u001b[0m     \u001b[38;5;28;01mraise\u001b[39;00m \u001b[38;5;167;01mValueError\u001b[39;00m(\u001b[38;5;124mf\u001b[39m\u001b[38;5;124m\"\u001b[39m\u001b[38;5;124mx and y can be no greater than 2D, but have \u001b[39m\u001b[38;5;124m\"\u001b[39m\n\u001b[1;32m    490\u001b[0m                      \u001b[38;5;124mf\u001b[39m\u001b[38;5;124m\"\u001b[39m\u001b[38;5;124mshapes \u001b[39m\u001b[38;5;132;01m{\u001b[39;00mx\u001b[38;5;241m.\u001b[39mshape\u001b[38;5;132;01m}\u001b[39;00m\u001b[38;5;124m and \u001b[39m\u001b[38;5;132;01m{\u001b[39;00my\u001b[38;5;241m.\u001b[39mshape\u001b[38;5;132;01m}\u001b[39;00m\u001b[38;5;124m\"\u001b[39m)\n",
      "\u001b[0;31mValueError\u001b[0m: x and y must have same first dimension, but have shapes (7,) and (4,)"
     ]
    },
    {
     "data": {
      "image/png": "[encoded data removed]",
      "text/plain": [
       "<Figure size 640x480 with 1 Axes>"
      ]
     },
     "metadata": {},
     "output_type": "display_data"
    }
   ],
   "source": [
    "import matplotlib.pyplot as plt\n",
    "# plot with time slots\n",
    "#  and range  in lighter blue and avg in darker blue\n",
    "x_values = [10,50,100,500,1000,10000,100000]\n",
    "grid_world = GridWorld()\n",
    "\n"
   ]
  },
  {
   "cell_type": "code",
   "execution_count": 12,
   "metadata": {},
   "outputs": [
    {
     "name": "stdout",
     "output_type": "stream",
     "text": [
      "{500: -0.40724886184513237, 1000: -0.5031967206514827, 10000: -0.37646112891008676, 100000: -0.34936700543841914}\n"
     ]
    },
    {
     "data": {
      "image/png": "[encoded data removed]",
      "text/plain": [
       "<Figure size 640x480 with 1 Axes>"
      ]
     },
     "metadata": {},
     "output_type": "display_data"
    }
   ],
   "source": [
    "# mins_grid,maxs_grid, avgs_grid, budget_grid = plot_graph_for_test(grid_world)\n",
    "print(avgs_grid)\n",
    "y_values =list(avgs_grid.values())\n",
    "x_values = [500,1000,10000,100000]\n",
    "plt.plot(x_values,y_values,label='avg')\n",
    "plt.fill_between(x_values,list(mins_grid.values()),list(maxs_grid.values()),alpha=0.5)\n",
    "plt.legend()\n",
    "plt.xscale('log')\n",
    "plt.show()"
   ]
  },
  {
   "cell_type": "code",
   "execution_count": 14,
   "metadata": {},
   "outputs": [
    {
     "name": "stderr",
     "output_type": "stream",
     "text": [
      "inner loop: 100%|██████████| 10/10 [02:40<00:00, 16.03s/it]\n",
      "outer loop:   4%|▍         | 1/25 [02:40<1:04:07, 160.32s/it]"
     ]
    },
    {
     "name": "stdout",
     "output_type": "stream",
     "text": [
      "\n",
      "state: (0, 0), action_count: [1, 0, 0, 9], pi[(i,j)]: 3\n",
      "--------------------------------\n"
     ]
    },
    {
     "name": "stderr",
     "output_type": "stream",
     "text": [
      "inner loop: 100%|██████████| 10/10 [02:29<00:00, 14.94s/it]\n",
      "outer loop:   8%|▊         | 2/25 [05:09<58:59, 153.91s/it]  "
     ]
    },
    {
     "name": "stdout",
     "output_type": "stream",
     "text": [
      "\n",
      "state: (0, 1), action_count: [0, 0, 0, 10], pi[(i,j)]: 3\n",
      "--------------------------------\n"
     ]
    },
    {
     "name": "stderr",
     "output_type": "stream",
     "text": [
      "inner loop: 100%|██████████| 10/10 [02:24<00:00, 14.42s/it]\n",
      "outer loop:  12%|█▏        | 3/25 [07:33<54:48, 149.47s/it]"
     ]
    },
    {
     "name": "stdout",
     "output_type": "stream",
     "text": [
      "\n",
      "state: (0, 2), action_count: [0, 0, 0, 10], pi[(i,j)]: 3\n",
      "--------------------------------\n"
     ]
    },
    {
     "name": "stderr",
     "output_type": "stream",
     "text": [
      "inner loop: 100%|██████████| 10/10 [02:09<00:00, 12.96s/it]\n",
      "outer loop:  16%|█▌        | 4/25 [09:43<49:33, 141.61s/it]"
     ]
    },
    {
     "name": "stdout",
     "output_type": "stream",
     "text": [
      "\n",
      "state: (0, 3), action_count: [1, 0, 0, 9], pi[(i,j)]: 3\n",
      "--------------------------------\n"
     ]
    },
    {
     "name": "stderr",
     "output_type": "stream",
     "text": [
      "inner loop: 100%|██████████| 10/10 [02:31<00:00, 15.11s/it]\n",
      "outer loop:  20%|██        | 5/25 [12:14<48:21, 145.05s/it]"
     ]
    },
    {
     "name": "stdout",
     "output_type": "stream",
     "text": [
      "\n",
      "state: (0, 4), action_count: [4, 5, 1, 0], pi[(i,j)]: 1\n",
      "--------------------------------\n"
     ]
    },
    {
     "name": "stderr",
     "output_type": "stream",
     "text": [
      "inner loop: 100%|██████████| 10/10 [01:20<00:00,  8.08s/it]\n",
      "outer loop:  24%|██▍       | 6/25 [13:35<39:00, 123.19s/it]"
     ]
    },
    {
     "name": "stdout",
     "output_type": "stream",
     "text": [
      "\n",
      "state: (1, 0), action_count: [6, 0, 1, 3], pi[(i,j)]: 0\n",
      "--------------------------------\n"
     ]
    },
    {
     "name": "stderr",
     "output_type": "stream",
     "text": [
      "inner loop: 100%|██████████| 10/10 [01:09<00:00,  6.90s/it]\n",
      "outer loop:  28%|██▊       | 7/25 [14:44<31:38, 105.49s/it]"
     ]
    },
    {
     "name": "stdout",
     "output_type": "stream",
     "text": [
      "\n",
      "state: (1, 1), action_count: [0, 0, 0, 10], pi[(i,j)]: 3\n",
      "--------------------------------\n"
     ]
    },
    {
     "name": "stderr",
     "output_type": "stream",
     "text": [
      "inner loop: 100%|██████████| 10/10 [01:05<00:00,  6.54s/it]\n",
      "outer loop:  32%|███▏      | 8/25 [15:49<26:16, 92.73s/it] "
     ]
    },
    {
     "name": "stdout",
     "output_type": "stream",
     "text": [
      "\n",
      "state: (1, 2), action_count: [0, 0, 0, 10], pi[(i,j)]: 3\n",
      "--------------------------------\n"
     ]
    },
    {
     "name": "stderr",
     "output_type": "stream",
     "text": [
      "inner loop: 100%|██████████| 10/10 [00:58<00:00,  5.85s/it]\n",
      "outer loop:  36%|███▌      | 9/25 [16:48<21:52, 82.04s/it]"
     ]
    },
    {
     "name": "stdout",
     "output_type": "stream",
     "text": [
      "\n",
      "state: (1, 3), action_count: [0, 3, 0, 7], pi[(i,j)]: 3\n",
      "--------------------------------\n"
     ]
    },
    {
     "name": "stderr",
     "output_type": "stream",
     "text": [
      "inner loop: 100%|██████████| 10/10 [00:54<00:00,  5.49s/it]\n",
      "outer loop:  40%|████      | 10/25 [17:43<18:24, 73.65s/it]"
     ]
    },
    {
     "name": "stdout",
     "output_type": "stream",
     "text": [
      "\n",
      "state: (1, 4), action_count: [3, 3, 0, 4], pi[(i,j)]: 3\n",
      "--------------------------------\n"
     ]
    },
    {
     "name": "stderr",
     "output_type": "stream",
     "text": [
      "inner loop: 100%|██████████| 10/10 [01:20<00:00,  8.02s/it]\n",
      "outer loop:  44%|████▍     | 11/25 [19:03<17:39, 75.67s/it]"
     ]
    },
    {
     "name": "stdout",
     "output_type": "stream",
     "text": [
      "\n",
      "state: (2, 0), action_count: [9, 0, 0, 1], pi[(i,j)]: 0\n",
      "--------------------------------\n"
     ]
    },
    {
     "name": "stderr",
     "output_type": "stream",
     "text": [
      "inner loop: 100%|██████████| 10/10 [01:26<00:00,  8.68s/it]\n",
      "outer loop:  48%|████▊     | 12/25 [20:30<17:07, 79.07s/it]"
     ]
    },
    {
     "name": "stdout",
     "output_type": "stream",
     "text": [
      "\n",
      "state: (2, 1), action_count: [7, 0, 2, 1], pi[(i,j)]: 0\n",
      "--------------------------------\n"
     ]
    },
    {
     "name": "stderr",
     "output_type": "stream",
     "text": [
      "inner loop: 100%|██████████| 10/10 [00:00<00:00, 367921.40it/s]\n",
      "inner loop: 100%|██████████| 10/10 [00:52<00:00,  5.23s/it]\n",
      "outer loop:  56%|█████▌    | 14/25 [21:22<09:58, 54.45s/it]"
     ]
    },
    {
     "name": "stdout",
     "output_type": "stream",
     "text": [
      "\n",
      "state: (2, 3), action_count: [1, 0, 4, 5], pi[(i,j)]: 3\n",
      "--------------------------------\n"
     ]
    },
    {
     "name": "stderr",
     "output_type": "stream",
     "text": [
      "inner loop: 100%|██████████| 10/10 [00:50<00:00,  5.05s/it]\n",
      "outer loop:  60%|██████    | 15/25 [22:13<08:54, 53.47s/it]"
     ]
    },
    {
     "name": "stdout",
     "output_type": "stream",
     "text": [
      "\n",
      "state: (2, 4), action_count: [1, 2, 1, 6], pi[(i,j)]: 3\n",
      "--------------------------------\n"
     ]
    },
    {
     "name": "stderr",
     "output_type": "stream",
     "text": [
      "inner loop: 100%|██████████| 10/10 [01:17<00:00,  7.78s/it]\n",
      "outer loop:  64%|██████▍   | 16/25 [23:30<08:58, 59.85s/it]"
     ]
    },
    {
     "name": "stdout",
     "output_type": "stream",
     "text": [
      "\n",
      "state: (3, 0), action_count: [5, 1, 2, 2], pi[(i,j)]: 0\n",
      "--------------------------------\n"
     ]
    },
    {
     "name": "stderr",
     "output_type": "stream",
     "text": [
      "inner loop: 100%|██████████| 10/10 [01:17<00:00,  7.75s/it]\n",
      "outer loop:  68%|██████▊   | 17/25 [24:48<08:37, 64.66s/it]"
     ]
    },
    {
     "name": "stdout",
     "output_type": "stream",
     "text": [
      "\n",
      "state: (3, 1), action_count: [8, 0, 1, 1], pi[(i,j)]: 0\n",
      "--------------------------------\n"
     ]
    },
    {
     "name": "stderr",
     "output_type": "stream",
     "text": [
      "inner loop: 100%|██████████| 10/10 [00:00<00:00, 233016.89it/s]\n",
      "inner loop: 100%|██████████| 10/10 [00:37<00:00,  3.75s/it]\n",
      "outer loop:  76%|███████▌  | 19/25 [25:25<04:27, 44.54s/it]"
     ]
    },
    {
     "name": "stdout",
     "output_type": "stream",
     "text": [
      "\n",
      "state: (3, 3), action_count: [6, 0, 0, 4], pi[(i,j)]: 0\n",
      "--------------------------------\n"
     ]
    },
    {
     "name": "stderr",
     "output_type": "stream",
     "text": [
      "inner loop: 100%|██████████| 10/10 [00:27<00:00,  2.79s/it]\n",
      "outer loop:  80%|████████  | 20/25 [25:53<03:22, 40.57s/it]"
     ]
    },
    {
     "name": "stdout",
     "output_type": "stream",
     "text": [
      "\n",
      "state: (3, 4), action_count: [7, 0, 1, 2], pi[(i,j)]: 0\n",
      "--------------------------------\n"
     ]
    },
    {
     "name": "stderr",
     "output_type": "stream",
     "text": [
      "inner loop: 100%|██████████| 10/10 [01:16<00:00,  7.62s/it]\n",
      "outer loop:  84%|████████▍ | 21/25 [27:09<03:18, 49.62s/it]"
     ]
    },
    {
     "name": "stdout",
     "output_type": "stream",
     "text": [
      "\n",
      "state: (4, 0), action_count: [5, 2, 0, 3], pi[(i,j)]: 0\n",
      "--------------------------------\n"
     ]
    },
    {
     "name": "stderr",
     "output_type": "stream",
     "text": [
      "inner loop: 100%|██████████| 10/10 [01:15<00:00,  7.53s/it]\n",
      "outer loop:  88%|████████▊ | 22/25 [28:25<02:49, 56.45s/it]"
     ]
    },
    {
     "name": "stdout",
     "output_type": "stream",
     "text": [
      "\n",
      "state: (4, 1), action_count: [5, 1, 3, 1], pi[(i,j)]: 0\n",
      "--------------------------------\n"
     ]
    },
    {
     "name": "stderr",
     "output_type": "stream",
     "text": [
      "inner loop: 100%|██████████| 10/10 [00:45<00:00,  4.57s/it]\n",
      "outer loop:  92%|█████████▏| 23/25 [29:10<01:46, 53.48s/it]"
     ]
    },
    {
     "name": "stdout",
     "output_type": "stream",
     "text": [
      "\n",
      "state: (4, 2), action_count: [0, 0, 4, 6], pi[(i,j)]: 3\n",
      "--------------------------------\n"
     ]
    },
    {
     "name": "stderr",
     "output_type": "stream",
     "text": [
      "inner loop: 100%|██████████| 10/10 [00:20<00:00,  2.08s/it]\n",
      "outer loop:  96%|█████████▌| 24/25 [29:31<00:44, 44.25s/it]"
     ]
    },
    {
     "name": "stdout",
     "output_type": "stream",
     "text": [
      "\n",
      "state: (4, 3), action_count: [6, 0, 0, 4], pi[(i,j)]: 0\n",
      "--------------------------------\n"
     ]
    },
    {
     "name": "stderr",
     "output_type": "stream",
     "text": [
      "inner loop: 100%|██████████| 10/10 [00:00<00:00, 128266.18it/s]\n",
      "outer loop: 100%|██████████| 25/25 [29:31<00:00, 70.87s/it]\n"
     ]
    }
   ],
   "source": [
    "from tqdm import tqdm\n",
    "env_grid = GridWorld()\n",
    "mcts_grid = MonteCarloSearchTree(env_grid)\n",
    "probs_pi_grid={}\n",
    "pi_grid={}\n",
    "for k in tqdm(range(25),desc='outer loop'):\n",
    "    i = k // 5\n",
    "    j = k % 5\n",
    "    action_count = [0,0,0,0]\n",
    "    for p in tqdm(range(10),desc='inner loop'):\n",
    "        if (i,j) not in env_grid.obstacles and (i,j) != env_grid.goal:\n",
    "            env_grid.current_state = (i,j)\n",
    "            mcts_grid.root = Node((i,j))\n",
    "            probs_pi_grid[(i,j)],optimal_value = mcts_grid.get_best_action(10000,min_visits=2000)\n",
    "            optimal_action = np.argmax(probs_pi_grid[(i,j)])\n",
    "            action_count[optimal_action] += 1\n",
    "    if (i,j) not in env_grid.obstacles and (i,j) != env_grid.goal:\n",
    "        pi_grid[(i,j)] = action_count.index(max(action_count))\n",
    "        print()\n",
    "        print(f'state: {(i,j)}, action_count: {action_count}, pi[(i,j)]: {pi_grid[(i,j)]}')\n",
    "        print(f'--------------------------------')"
   ]
  },
  {
   "cell_type": "code",
   "execution_count": 17,
   "metadata": {},
   "outputs": [
    {
     "name": "stdout",
     "output_type": "stream",
     "text": [
      "→ → → → ↓ \n",
      "↑ → → → → \n",
      "↑ ↑ O → → \n",
      "↑ ↑ O ↑ ↑ \n",
      "↑ ↑ → ↑ G \n"
     ]
    }
   ],
   "source": [
    "def print_policy_grid(policy):\n",
    "    for i in range(5):\n",
    "        for j in range(5):\n",
    "            state = (i, j)\n",
    "            if state == env_grid.goal:\n",
    "                print(\"G\", end=\" \")\n",
    "                continue\n",
    "            elif state in env_grid.obstacles:\n",
    "                print(\"O\", end=\" \")\n",
    "                continue\n",
    "            action = policy[state]\n",
    "            if action == 0:\n",
    "                print(\"↑\", end=\" \")\n",
    "            elif action == 1:\n",
    "                print(\"↓\", end=\" \")\n",
    "            elif action == 2:\n",
    "                print(\"←\", end=\" \")\n",
    "            elif action == 3:\n",
    "                print(\"→\", end=\" \")\n",
    "            else:\n",
    "                print(\" \", end=\" \")\n",
    "        print()\n",
    "\n",
    "print_policy_grid(pi_grid)"
   ]
  },
  {
   "cell_type": "code",
   "execution_count": 26,
   "metadata": {},
   "outputs": [
    {
     "name": "stderr",
     "output_type": "stream",
     "text": [
      "inner loop: 100%|██████████| 10/10 [00:31<00:00,  3.15s/it]\n"
     ]
    },
    {
     "name": "stdout",
     "output_type": "stream",
     "text": [
      "\n",
      "state: (0, 3), action_count: [0, 1, 0, 9], pi[(i,j)]: 3\n",
      "--------------------------------\n"
     ]
    },
    {
     "name": "stderr",
     "output_type": "stream",
     "text": [
      "inner loop: 100%|██████████| 10/10 [00:32<00:00,  3.26s/it]\n"
     ]
    },
    {
     "name": "stdout",
     "output_type": "stream",
     "text": [
      "\n",
      "state: (0, 4), action_count: [4, 6, 0, 0], pi[(i,j)]: 1\n",
      "--------------------------------\n"
     ]
    },
    {
     "name": "stderr",
     "output_type": "stream",
     "text": [
      "inner loop: 100%|██████████| 10/10 [00:33<00:00,  3.38s/it]\n"
     ]
    },
    {
     "name": "stdout",
     "output_type": "stream",
     "text": [
      "\n",
      "state: (1, 3), action_count: [1, 5, 0, 4], pi[(i,j)]: 1\n",
      "--------------------------------\n"
     ]
    },
    {
     "name": "stderr",
     "output_type": "stream",
     "text": [
      "inner loop: 100%|██████████| 10/10 [00:32<00:00,  3.25s/it]\n"
     ]
    },
    {
     "name": "stdout",
     "output_type": "stream",
     "text": [
      "\n",
      "state: (1, 4), action_count: [1, 6, 0, 3], pi[(i,j)]: 1\n",
      "--------------------------------\n"
     ]
    },
    {
     "name": "stderr",
     "output_type": "stream",
     "text": [
      "inner loop: 100%|██████████| 10/10 [00:25<00:00,  2.56s/it]\n"
     ]
    },
    {
     "name": "stdout",
     "output_type": "stream",
     "text": [
      "\n",
      "state: (2, 3), action_count: [0, 2, 3, 5], pi[(i,j)]: 3\n",
      "--------------------------------\n"
     ]
    },
    {
     "name": "stderr",
     "output_type": "stream",
     "text": [
      "inner loop: 100%|██████████| 10/10 [00:24<00:00,  2.45s/it]\n"
     ]
    },
    {
     "name": "stdout",
     "output_type": "stream",
     "text": [
      "\n",
      "state: (2, 4), action_count: [2, 3, 1, 4], pi[(i,j)]: 3\n",
      "--------------------------------\n"
     ]
    },
    {
     "name": "stderr",
     "output_type": "stream",
     "text": [
      "inner loop: 100%|██████████| 10/10 [00:19<00:00,  1.96s/it]\n"
     ]
    },
    {
     "name": "stdout",
     "output_type": "stream",
     "text": [
      "\n",
      "state: (3, 3), action_count: [3, 0, 2, 5], pi[(i,j)]: 3\n",
      "--------------------------------\n"
     ]
    },
    {
     "name": "stderr",
     "output_type": "stream",
     "text": [
      "inner loop: 100%|██████████| 10/10 [00:13<00:00,  1.40s/it]\n"
     ]
    },
    {
     "name": "stdout",
     "output_type": "stream",
     "text": [
      "\n",
      "state: (3, 4), action_count: [7, 0, 0, 3], pi[(i,j)]: 0\n",
      "--------------------------------\n"
     ]
    },
    {
     "name": "stderr",
     "output_type": "stream",
     "text": [
      "inner loop: 100%|██████████| 10/10 [00:08<00:00,  1.21it/s]\n"
     ]
    },
    {
     "name": "stdout",
     "output_type": "stream",
     "text": [
      "\n",
      "state: (4, 3), action_count: [2, 0, 0, 8], pi[(i,j)]: 3\n",
      "--------------------------------\n"
     ]
    },
    {
     "name": "stderr",
     "output_type": "stream",
     "text": [
      "inner loop: 100%|██████████| 10/10 [00:00<00:00, 303935.07it/s]\n"
     ]
    }
   ],
   "source": [
    "for i in range(5):\n",
    "    for j in range(3,5):\n",
    "        action_count = [0,0,0,0]\n",
    "        for p in tqdm(range(10),desc='inner loop'):\n",
    "            if (i,j) not in env_grid.obstacles and (i,j) != env_grid.goal:\n",
    "                env_grid.current_state = (i,j)\n",
    "                mcts_grid.root = Node((i,j))\n",
    "                probs_pi_grid[(i,j)],optimal_value = mcts_grid.get_best_action(1000,min_visits=2500)\n",
    "                probs_pi_grid[(i,j)],optimal_value = mcts_grid.get_best_action(1000,min_visits=2500)\n",
    "                probs_pi_grid[(i,j)],optimal_value = mcts_grid.get_best_action(1000,min_visits=2500)\n",
    "                probs_pi_grid[(i,j)],optimal_value = mcts_grid.get_best_action(1000,min_visits=2500)\n",
    "                optimal_action = np.argmax(probs_pi_grid[(i,j)])\n",
    "                action_count[optimal_action] += 1\n",
    "        if (i,j) not in env_grid.obstacles and (i,j) != env_grid.goal:\n",
    "            pi_grid[(i,j)] = action_count.index(max(action_count))\n",
    "            print()\n",
    "            print(f'state: {(i,j)}, action_count: {action_count}, pi[(i,j)]: {pi_grid[(i,j)]}')\n",
    "            print(f'--------------------------------')\n"
   ]
  },
  {
   "cell_type": "code",
   "execution_count": 25,
   "metadata": {},
   "outputs": [
    {
     "name": "stdout",
     "output_type": "stream",
     "text": [
      "→ → → → ↓ \n",
      "↑ → → → ↓ \n",
      "↑ ↑ O → ↑ \n",
      "↑ ↑ O ↑ ↑ \n",
      "↑ ↑ → → G \n"
     ]
    }
   ],
   "source": [
    "print_policy_grid(pi_grid)"
   ]
  },
  {
   "cell_type": "code",
   "execution_count": 68,
   "metadata": {},
   "outputs": [
    {
     "data": {
      "image/png": "[encoded data removed]",
      "text/plain": [
       "<Figure size 640x480 with 1 Axes>"
      ]
     },
     "metadata": {},
     "output_type": "display_data"
    }
   ],
   "source": [
    "import matplotlib.pyplot as plt\n",
    "# plot with time slots\n",
    "#  and range  in lighter blue and avg in darker blue\n",
    "\n",
    "x_values = [500,1000,10000,100000]\n",
    "y_values =list(avgs_cat.values())\n",
    "y_values = [x+4 for x in y_values]\n",
    "plt.plot(x_values,y_values,label='avg', marker='o')\n",
    "plt.xlabel('iterations or budget')\n",
    "plt.ylabel('Average Return')\n",
    "plt.title('Cat Vs Monsters')\n",
    "min_values_cat = [x+4 for x in list(mins_cat.values())]\n",
    "max_values_cat = [x+4 for x in list(maxs_cat.values())]  \n",
    "plt.fill_between(x_values,min_values_cat,max_values_cat,alpha=0.5)\n",
    "plt.legend()\n",
    "plt.xscale('log')\n",
    "plt.grid(True)\n",
    "plt.show()"
   ]
  },
  {
   "cell_type": "code",
   "execution_count": 69,
   "metadata": {},
   "outputs": [
    {
     "name": "stdout",
     "output_type": "stream",
     "text": [
      "{500: -0.40724886184513237, 1000: -0.5031967206514827, 10000: -0.37646112891008676, 100000: -0.34936700543841914}\n"
     ]
    },
    {
     "data": {
      "image/png": "[encoded data removed]",
      "text/plain": [
       "<Figure size 640x480 with 1 Axes>"
      ]
     },
     "metadata": {},
     "output_type": "display_data"
    }
   ],
   "source": [
    "print(avgs_grid)\n",
    "y_values =list(avgs_grid.values())\n",
    "x_values = [500,1000,10000,100000]\n",
    "y_values = [x+3 for x in y_values]\n",
    "plt.plot(x_values,y_values,label='avg', marker='o')\n",
    "plt.xlabel('iterations or budget')\n",
    "plt.ylabel('Average Return')\n",
    "plt.title('Grid World')\n",
    "min_values_grid = [x+3 for x in list(mins_grid.values())]\n",
    "max_values_grid = [x+3 for x in list(maxs_grid.values())]  \n",
    "plt.fill_between(x_values,min_values_grid,max_values_grid,alpha=0.5)\n",
    "plt.legend()\n",
    "plt.xscale('log')\n",
    "plt.grid(True)\n",
    "plt.show()"
   ]
  },
  {
   "cell_type": "code",
   "execution_count": null,
   "metadata": {},
   "outputs": [],
   "source": [
    "def get_greedy_policy(probs_pi):\n",
    "    policy = {}\n",
    "    for state in probs_pi:\n",
    "        if state not in env.obstacles and state != env.goal:\n",
    "            policy[state] = np.argmax(probs_pi[state])\n",
    "    return policy\n",
    "print(probs_pi_grid)\n",
    "print_policy_grid(get_greedy_policy(probs_pi_grid))\n",
    "\n"
   ]
  },
  {
   "cell_type": "code",
   "execution_count": 34,
   "metadata": {},
   "outputs": [],
   "source": [
    "import pickle\n",
    "# save the policy in a file\n",
    "with open('policy_grid.pkl', 'wb') as f:\n",
    "    pickle.dump(pi_grid, f)\n",
    "with open('policy_cat.pkl', 'wb') as f:\n",
    "    pickle.dump(pi_cat, f)\n",
    "# save the plot elements in a file\n",
    "with open('plot_elements.pkl', 'wb') as f:\n",
    "    pickle.dump((mins_grid,maxs_grid,avgs_grid,budget_grid), f)\n",
    "with open('plot_elements_cat.pkl', 'wb') as f:\n",
    "    pickle.dump((mins_cat,maxs_cat,avgs_cat,iterations_cat), f)\n"
   ]
  },
  {
   "cell_type": "code",
   "execution_count": 35,
   "metadata": {},
   "outputs": [
    {
     "data": {
      "image/png": "[encoded data removed]",
      "text/plain": [
       "<Figure size 640x480 with 1 Axes>"
      ]
     },
     "metadata": {},
     "output_type": "display_data"
    }
   ],
   "source": [
    "#read the pickles and plot the graph\n",
    "with open('plot_elements.pkl', 'rb') as f:\n",
    "    mins_grid_p,maxs_grid_p,avgs_grid_p,budget_grid_p = pickle.load(f)\n",
    "with open('plot_elements_cat.pkl', 'rb') as f:\n",
    "    mins_cat_p,maxs_cat_p,avgs_cat_p,iterations_cat_p = pickle.load(f)\n",
    "\n",
    "x_values = [500,1000,10000,100000]\n",
    "y_values =list(avgs_grid_p.values())\n",
    "plt.plot(x_values,y_values,label='avg')\n",
    "plt.fill_between(x_values,list(mins_grid_p.values()),list(maxs_grid_p.values()),alpha=0.5)\n",
    "plt.legend()\n",
    "plt.xscale('log')\n",
    "plt.grid(True)\n",
    "plt.show()\n"
   ]
  },
  {
   "cell_type": "code",
   "execution_count": 44,
   "metadata": {},
   "outputs": [
    {
     "name": "stderr",
     "output_type": "stream",
     "text": [
      " 20%|██        | 1/5 [00:11<00:45, 11.36s/it]"
     ]
    },
    {
     "name": "stdout",
     "output_type": "stream",
     "text": [
      "budget: 10000, optimal_value: -0.29116383648492206, optimal_action: 3\n"
     ]
    },
    {
     "name": "stderr",
     "output_type": "stream",
     "text": [
      " 40%|████      | 2/5 [00:21<00:32, 10.86s/it]"
     ]
    },
    {
     "name": "stdout",
     "output_type": "stream",
     "text": [
      "budget: 10000, optimal_value: -0.41753811436655736, optimal_action: 3\n"
     ]
    },
    {
     "name": "stderr",
     "output_type": "stream",
     "text": [
      " 60%|██████    | 3/5 [00:31<00:20, 10.45s/it]"
     ]
    },
    {
     "name": "stdout",
     "output_type": "stream",
     "text": [
      "budget: 10000, optimal_value: -0.48910219574712216, optimal_action: 3\n"
     ]
    },
    {
     "name": "stderr",
     "output_type": "stream",
     "text": [
      " 80%|████████  | 4/5 [00:42<00:10, 10.62s/it]"
     ]
    },
    {
     "name": "stdout",
     "output_type": "stream",
     "text": [
      "budget: 10000, optimal_value: -0.4203617279075841, optimal_action: 3\n"
     ]
    },
    {
     "name": "stderr",
     "output_type": "stream",
     "text": [
      "100%|██████████| 5/5 [00:53<00:00, 10.77s/it]\n"
     ]
    },
    {
     "name": "stdout",
     "output_type": "stream",
     "text": [
      "budget: 10000, optimal_value: -0.3740088678615898, optimal_action: 3\n"
     ]
    },
    {
     "name": "stderr",
     "output_type": "stream",
     "text": [
      " 20%|██        | 1/5 [00:09<00:36,  9.13s/it]"
     ]
    },
    {
     "name": "stdout",
     "output_type": "stream",
     "text": [
      "budget: 10000, optimal_value: -0.3476285039425948, optimal_action: 3\n"
     ]
    },
    {
     "name": "stderr",
     "output_type": "stream",
     "text": [
      " 40%|████      | 2/5 [00:19<00:29,  9.81s/it]"
     ]
    },
    {
     "name": "stdout",
     "output_type": "stream",
     "text": [
      "budget: 10000, optimal_value: -0.37449683374706716, optimal_action: 3\n"
     ]
    },
    {
     "name": "stderr",
     "output_type": "stream",
     "text": [
      " 60%|██████    | 3/5 [00:29<00:19,  9.95s/it]"
     ]
    },
    {
     "name": "stdout",
     "output_type": "stream",
     "text": [
      "budget: 10000, optimal_value: -0.4600258142310859, optimal_action: 3\n"
     ]
    },
    {
     "name": "stderr",
     "output_type": "stream",
     "text": [
      " 80%|████████  | 4/5 [00:40<00:10, 10.44s/it]"
     ]
    },
    {
     "name": "stdout",
     "output_type": "stream",
     "text": [
      "budget: 10000, optimal_value: -0.33857680209373103, optimal_action: 3\n"
     ]
    },
    {
     "name": "stderr",
     "output_type": "stream",
     "text": [
      "100%|██████████| 5/5 [00:51<00:00, 10.30s/it]\n"
     ]
    },
    {
     "name": "stdout",
     "output_type": "stream",
     "text": [
      "budget: 10000, optimal_value: -0.48426278448233434, optimal_action: 3\n"
     ]
    },
    {
     "name": "stderr",
     "output_type": "stream",
     "text": [
      " 20%|██        | 1/5 [00:11<00:45, 11.37s/it]"
     ]
    },
    {
     "name": "stdout",
     "output_type": "stream",
     "text": [
      "budget: 10000, optimal_value: -0.3876060871556662, optimal_action: 3\n"
     ]
    },
    {
     "name": "stderr",
     "output_type": "stream",
     "text": [
      " 40%|████      | 2/5 [00:22<00:34, 11.33s/it]"
     ]
    },
    {
     "name": "stdout",
     "output_type": "stream",
     "text": [
      "budget: 10000, optimal_value: -0.35076641597081354, optimal_action: 3\n"
     ]
    },
    {
     "name": "stderr",
     "output_type": "stream",
     "text": [
      " 60%|██████    | 3/5 [00:35<00:23, 11.96s/it]"
     ]
    },
    {
     "name": "stdout",
     "output_type": "stream",
     "text": [
      "budget: 10000, optimal_value: -0.37479382040897025, optimal_action: 3\n"
     ]
    },
    {
     "name": "stderr",
     "output_type": "stream",
     "text": [
      " 80%|████████  | 4/5 [00:47<00:12, 12.13s/it]"
     ]
    },
    {
     "name": "stdout",
     "output_type": "stream",
     "text": [
      "budget: 10000, optimal_value: -0.41176129234352093, optimal_action: 3\n"
     ]
    },
    {
     "name": "stderr",
     "output_type": "stream",
     "text": [
      "100%|██████████| 5/5 [01:01<00:00, 12.31s/it]\n"
     ]
    },
    {
     "name": "stdout",
     "output_type": "stream",
     "text": [
      "budget: 10000, optimal_value: -0.40621787688915756, optimal_action: 3\n"
     ]
    },
    {
     "name": "stderr",
     "output_type": "stream",
     "text": [
      " 20%|██        | 1/5 [00:11<00:47, 11.86s/it]"
     ]
    },
    {
     "name": "stdout",
     "output_type": "stream",
     "text": [
      "budget: 10000, optimal_value: -0.5194300114023852, optimal_action: 0\n"
     ]
    },
    {
     "name": "stderr",
     "output_type": "stream",
     "text": [
      " 40%|████      | 2/5 [00:23<00:35, 11.90s/it]"
     ]
    },
    {
     "name": "stdout",
     "output_type": "stream",
     "text": [
      "budget: 10000, optimal_value: -0.4421521483087278, optimal_action: 3\n"
     ]
    },
    {
     "name": "stderr",
     "output_type": "stream",
     "text": [
      " 60%|██████    | 3/5 [00:35<00:23, 11.98s/it]"
     ]
    },
    {
     "name": "stdout",
     "output_type": "stream",
     "text": [
      "budget: 10000, optimal_value: -0.43505414587669133, optimal_action: 1\n"
     ]
    },
    {
     "name": "stderr",
     "output_type": "stream",
     "text": [
      " 80%|████████  | 4/5 [00:47<00:12, 12.04s/it]"
     ]
    },
    {
     "name": "stdout",
     "output_type": "stream",
     "text": [
      "budget: 10000, optimal_value: -0.3818569398466963, optimal_action: 3\n"
     ]
    },
    {
     "name": "stderr",
     "output_type": "stream",
     "text": [
      "100%|██████████| 5/5 [00:59<00:00, 11.92s/it]\n"
     ]
    },
    {
     "name": "stdout",
     "output_type": "stream",
     "text": [
      "budget: 10000, optimal_value: -0.35891067051918757, optimal_action: 3\n"
     ]
    },
    {
     "name": "stderr",
     "output_type": "stream",
     "text": [
      " 20%|██        | 1/5 [00:11<00:44, 11.06s/it]"
     ]
    },
    {
     "name": "stdout",
     "output_type": "stream",
     "text": [
      "budget: 10000, optimal_value: -0.39842687371891683, optimal_action: 3\n"
     ]
    },
    {
     "name": "stderr",
     "output_type": "stream",
     "text": [
      " 40%|████      | 2/5 [00:23<00:36, 12.01s/it]"
     ]
    },
    {
     "name": "stdout",
     "output_type": "stream",
     "text": [
      "budget: 10000, optimal_value: -0.4725229893387079, optimal_action: 3\n"
     ]
    },
    {
     "name": "stderr",
     "output_type": "stream",
     "text": [
      " 60%|██████    | 3/5 [00:34<00:23, 11.62s/it]"
     ]
    },
    {
     "name": "stdout",
     "output_type": "stream",
     "text": [
      "budget: 10000, optimal_value: -0.44827310502112977, optimal_action: 3\n"
     ]
    },
    {
     "name": "stderr",
     "output_type": "stream",
     "text": [
      " 80%|████████  | 4/5 [00:48<00:12, 12.37s/it]"
     ]
    },
    {
     "name": "stdout",
     "output_type": "stream",
     "text": [
      "budget: 10000, optimal_value: -0.4172561103879868, optimal_action: 3\n"
     ]
    },
    {
     "name": "stderr",
     "output_type": "stream",
     "text": [
      "100%|██████████| 5/5 [01:01<00:00, 12.36s/it]\n"
     ]
    },
    {
     "name": "stdout",
     "output_type": "stream",
     "text": [
      "budget: 10000, optimal_value: -0.470298213633141, optimal_action: 3\n"
     ]
    },
    {
     "name": "stderr",
     "output_type": "stream",
     "text": [
      " 20%|██        | 1/5 [00:10<00:41, 10.45s/it]"
     ]
    },
    {
     "name": "stdout",
     "output_type": "stream",
     "text": [
      "budget: 10000, optimal_value: -0.3784623305980432, optimal_action: 3\n"
     ]
    },
    {
     "name": "stderr",
     "output_type": "stream",
     "text": [
      " 40%|████      | 2/5 [00:22<00:34, 11.53s/it]"
     ]
    },
    {
     "name": "stdout",
     "output_type": "stream",
     "text": [
      "budget: 10000, optimal_value: -0.4274906576504735, optimal_action: 3\n"
     ]
    },
    {
     "name": "stderr",
     "output_type": "stream",
     "text": [
      " 60%|██████    | 3/5 [00:33<00:22, 11.31s/it]"
     ]
    },
    {
     "name": "stdout",
     "output_type": "stream",
     "text": [
      "budget: 10000, optimal_value: -0.3606334462114262, optimal_action: 3\n"
     ]
    },
    {
     "name": "stderr",
     "output_type": "stream",
     "text": [
      " 80%|████████  | 4/5 [00:50<00:13, 13.39s/it]"
     ]
    },
    {
     "name": "stdout",
     "output_type": "stream",
     "text": [
      "budget: 10000, optimal_value: -0.3545405835467287, optimal_action: 3\n"
     ]
    },
    {
     "name": "stderr",
     "output_type": "stream",
     "text": [
      "100%|██████████| 5/5 [01:05<00:00, 13.13s/it]\n"
     ]
    },
    {
     "name": "stdout",
     "output_type": "stream",
     "text": [
      "budget: 10000, optimal_value: -0.4333238752708287, optimal_action: 0\n"
     ]
    },
    {
     "name": "stderr",
     "output_type": "stream",
     "text": [
      " 20%|██        | 1/5 [00:14<00:57, 14.44s/it]"
     ]
    },
    {
     "name": "stdout",
     "output_type": "stream",
     "text": [
      "budget: 10000, optimal_value: -1.9274855861460953, optimal_action: 1\n"
     ]
    },
    {
     "name": "stderr",
     "output_type": "stream",
     "text": [
      " 40%|████      | 2/5 [00:27<00:41, 13.79s/it]"
     ]
    },
    {
     "name": "stdout",
     "output_type": "stream",
     "text": [
      "budget: 10000, optimal_value: -1.9346655987359827, optimal_action: 3\n"
     ]
    },
    {
     "name": "stderr",
     "output_type": "stream",
     "text": [
      " 60%|██████    | 3/5 [00:39<00:25, 12.85s/it]"
     ]
    },
    {
     "name": "stdout",
     "output_type": "stream",
     "text": [
      "budget: 10000, optimal_value: -1.8347122905669078, optimal_action: 1\n"
     ]
    },
    {
     "name": "stderr",
     "output_type": "stream",
     "text": [
      " 80%|████████  | 4/5 [00:54<00:13, 13.57s/it]"
     ]
    },
    {
     "name": "stdout",
     "output_type": "stream",
     "text": [
      "budget: 10000, optimal_value: -1.9205486092466335, optimal_action: 3\n"
     ]
    },
    {
     "name": "stderr",
     "output_type": "stream",
     "text": [
      "100%|██████████| 5/5 [01:05<00:00, 13.18s/it]\n"
     ]
    },
    {
     "name": "stdout",
     "output_type": "stream",
     "text": [
      "budget: 10000, optimal_value: -2.1362289691691174, optimal_action: 1\n"
     ]
    },
    {
     "name": "stderr",
     "output_type": "stream",
     "text": [
      " 20%|██        | 1/5 [00:13<00:53, 13.32s/it]"
     ]
    },
    {
     "name": "stdout",
     "output_type": "stream",
     "text": [
      "budget: 10000, optimal_value: -2.0982050359411804, optimal_action: 1\n"
     ]
    },
    {
     "name": "stderr",
     "output_type": "stream",
     "text": [
      " 40%|████      | 2/5 [00:24<00:36, 12.21s/it]"
     ]
    },
    {
     "name": "stdout",
     "output_type": "stream",
     "text": [
      "budget: 10000, optimal_value: -2.056661592739977, optimal_action: 3\n"
     ]
    },
    {
     "name": "stderr",
     "output_type": "stream",
     "text": [
      " 60%|██████    | 3/5 [00:35<00:23, 11.63s/it]"
     ]
    },
    {
     "name": "stdout",
     "output_type": "stream",
     "text": [
      "budget: 10000, optimal_value: -1.9735501809595295, optimal_action: 0\n"
     ]
    },
    {
     "name": "stderr",
     "output_type": "stream",
     "text": [
      " 80%|████████  | 4/5 [00:47<00:11, 11.88s/it]"
     ]
    },
    {
     "name": "stdout",
     "output_type": "stream",
     "text": [
      "budget: 10000, optimal_value: -1.879026101561785, optimal_action: 3\n"
     ]
    },
    {
     "name": "stderr",
     "output_type": "stream",
     "text": [
      "100%|██████████| 5/5 [00:59<00:00, 11.83s/it]\n"
     ]
    },
    {
     "name": "stdout",
     "output_type": "stream",
     "text": [
      "budget: 10000, optimal_value: -1.7673204104042768, optimal_action: 3\n"
     ]
    },
    {
     "name": "stderr",
     "output_type": "stream",
     "text": [
      " 20%|██        | 1/5 [00:10<00:41, 10.50s/it]"
     ]
    },
    {
     "name": "stdout",
     "output_type": "stream",
     "text": [
      "budget: 10000, optimal_value: -1.9134329128966137, optimal_action: 0\n"
     ]
    },
    {
     "name": "stderr",
     "output_type": "stream",
     "text": [
      " 40%|████      | 2/5 [00:22<00:34, 11.35s/it]"
     ]
    },
    {
     "name": "stdout",
     "output_type": "stream",
     "text": [
      "budget: 10000, optimal_value: -2.0606497829051156, optimal_action: 0\n"
     ]
    },
    {
     "name": "stderr",
     "output_type": "stream",
     "text": [
      " 60%|██████    | 3/5 [00:34<00:22, 11.44s/it]"
     ]
    },
    {
     "name": "stdout",
     "output_type": "stream",
     "text": [
      "budget: 10000, optimal_value: -2.0077617058729373, optimal_action: 3\n"
     ]
    },
    {
     "name": "stderr",
     "output_type": "stream",
     "text": [
      " 80%|████████  | 4/5 [00:45<00:11, 11.36s/it]"
     ]
    },
    {
     "name": "stdout",
     "output_type": "stream",
     "text": [
      "budget: 10000, optimal_value: -1.7699283574909033, optimal_action: 0\n"
     ]
    },
    {
     "name": "stderr",
     "output_type": "stream",
     "text": [
      "100%|██████████| 5/5 [00:56<00:00, 11.40s/it]\n"
     ]
    },
    {
     "name": "stdout",
     "output_type": "stream",
     "text": [
      "budget: 10000, optimal_value: -1.9739220593425202, optimal_action: 0\n"
     ]
    },
    {
     "name": "stderr",
     "output_type": "stream",
     "text": [
      " 20%|██        | 1/5 [00:11<00:44, 11.17s/it]"
     ]
    },
    {
     "name": "stdout",
     "output_type": "stream",
     "text": [
      "budget: 10000, optimal_value: -1.9859947785701593, optimal_action: 0\n"
     ]
    },
    {
     "name": "stderr",
     "output_type": "stream",
     "text": [
      " 40%|████      | 2/5 [00:23<00:35, 11.71s/it]"
     ]
    },
    {
     "name": "stdout",
     "output_type": "stream",
     "text": [
      "budget: 10000, optimal_value: -1.9812645262047262, optimal_action: 3\n"
     ]
    },
    {
     "name": "stderr",
     "output_type": "stream",
     "text": [
      " 60%|██████    | 3/5 [00:34<00:22, 11.28s/it]"
     ]
    },
    {
     "name": "stdout",
     "output_type": "stream",
     "text": [
      "budget: 10000, optimal_value: -1.779826822896938, optimal_action: 3\n"
     ]
    },
    {
     "name": "stderr",
     "output_type": "stream",
     "text": [
      " 80%|████████  | 4/5 [00:46<00:11, 11.91s/it]"
     ]
    },
    {
     "name": "stdout",
     "output_type": "stream",
     "text": [
      "budget: 10000, optimal_value: -1.9498906593084382, optimal_action: 0\n"
     ]
    },
    {
     "name": "stderr",
     "output_type": "stream",
     "text": [
      "100%|██████████| 5/5 [00:57<00:00, 11.49s/it]\n"
     ]
    },
    {
     "name": "stdout",
     "output_type": "stream",
     "text": [
      "budget: 10000, optimal_value: -1.8678965854309169, optimal_action: 3\n"
     ]
    },
    {
     "name": "stderr",
     "output_type": "stream",
     "text": [
      " 20%|██        | 1/5 [00:11<00:45, 11.32s/it]"
     ]
    },
    {
     "name": "stdout",
     "output_type": "stream",
     "text": [
      "budget: 10000, optimal_value: -1.6184535252385794, optimal_action: 3\n"
     ]
    },
    {
     "name": "stderr",
     "output_type": "stream",
     "text": [
      " 40%|████      | 2/5 [00:23<00:36, 12.06s/it]"
     ]
    },
    {
     "name": "stdout",
     "output_type": "stream",
     "text": [
      "budget: 10000, optimal_value: -2.1310499230555147, optimal_action: 0\n"
     ]
    },
    {
     "name": "stderr",
     "output_type": "stream",
     "text": [
      " 60%|██████    | 3/5 [00:34<00:22, 11.27s/it]"
     ]
    },
    {
     "name": "stdout",
     "output_type": "stream",
     "text": [
      "budget: 10000, optimal_value: -2.088300119710407, optimal_action: 0\n"
     ]
    },
    {
     "name": "stderr",
     "output_type": "stream",
     "text": [
      " 80%|████████  | 4/5 [00:46<00:11, 11.82s/it]"
     ]
    },
    {
     "name": "stdout",
     "output_type": "stream",
     "text": [
      "budget: 10000, optimal_value: -1.8490494796249763, optimal_action: 0\n"
     ]
    },
    {
     "name": "stderr",
     "output_type": "stream",
     "text": [
      "100%|██████████| 5/5 [00:57<00:00, 11.52s/it]\n"
     ]
    },
    {
     "name": "stdout",
     "output_type": "stream",
     "text": [
      "budget: 10000, optimal_value: -2.034992048181226, optimal_action: 1\n"
     ]
    },
    {
     "name": "stderr",
     "output_type": "stream",
     "text": [
      " 20%|██        | 1/5 [00:10<00:42, 10.74s/it]"
     ]
    },
    {
     "name": "stdout",
     "output_type": "stream",
     "text": [
      "budget: 10000, optimal_value: -2.0443100257038216, optimal_action: 3\n"
     ]
    },
    {
     "name": "stderr",
     "output_type": "stream",
     "text": [
      " 40%|████      | 2/5 [00:23<00:35, 11.86s/it]"
     ]
    },
    {
     "name": "stdout",
     "output_type": "stream",
     "text": [
      "budget: 10000, optimal_value: -2.054592949553358, optimal_action: 0\n"
     ]
    },
    {
     "name": "stderr",
     "output_type": "stream",
     "text": [
      " 60%|██████    | 3/5 [00:34<00:22, 11.31s/it]"
     ]
    },
    {
     "name": "stdout",
     "output_type": "stream",
     "text": [
      "budget: 10000, optimal_value: -1.8950703164856972, optimal_action: 3\n"
     ]
    },
    {
     "name": "stderr",
     "output_type": "stream",
     "text": [
      " 80%|████████  | 4/5 [00:44<00:11, 11.13s/it]"
     ]
    },
    {
     "name": "stdout",
     "output_type": "stream",
     "text": [
      "budget: 10000, optimal_value: -1.3855504834116397, optimal_action: 3\n"
     ]
    },
    {
     "name": "stderr",
     "output_type": "stream",
     "text": [
      "100%|██████████| 5/5 [00:58<00:00, 11.63s/it]"
     ]
    },
    {
     "name": "stdout",
     "output_type": "stream",
     "text": [
      "budget: 10000, optimal_value: -1.4266840633796043, optimal_action: 3\n"
     ]
    },
    {
     "name": "stderr",
     "output_type": "stream",
     "text": [
      "\n"
     ]
    }
   ],
   "source": [
    "# check for different depth limits\n",
    "\n",
    "def plot_graph_for_test_depth(env,min_visits=1000):\n",
    "    mcts = MonteCarloSearchTree(env)\n",
    "    mins={}\n",
    "    maxs={}\n",
    "    avgs={}\n",
    "    depths=[5,10,20,40,100,200]\n",
    "    probs_pi_dict={}\n",
    "    b=10000\n",
    "    # time_slots=[1,5,10,50,100]\n",
    "    for depth in depths:\n",
    "        min_value = float('inf')\n",
    "        max_value = float('-inf')\n",
    "        avg_value = 0\n",
    "        avg_iteration = 0\n",
    "        avg_pi=None\n",
    "        for i in tqdm(range(5)):\n",
    "            env.reset()\n",
    "            mcts.root = Node((0,0))\n",
    "            probs_pi,optimal_value = mcts.get_best_action(b,min_visits=min_visits)\n",
    "            optimal_action = np.argmax(probs_pi)\n",
    "            print(f'budget: {b}, optimal_value: {optimal_value}, optimal_action: {optimal_action}')\n",
    "            min_value = min(min_value, optimal_value)\n",
    "            max_value = max(max_value, optimal_value)\n",
    "            avg_value += optimal_value\n",
    "            if avg_pi is None:\n",
    "                avg_pi = probs_pi\n",
    "            else:\n",
    "                avg_pi += probs_pi\n",
    "        avg_pi /= 5\n",
    "        probs_pi_dict[depth] = avg_pi/5\n",
    "        avg_value /= 5\n",
    "\n",
    "        mins[depth] = min_value\n",
    "        maxs[depth] = max_value\n",
    "        avgs[depth] = avg_value\n",
    "    \n",
    "    return mins,maxs,avgs\n",
    "\n",
    "\n",
    "mins_grid_d,maxs_grid_d, avgs_grid_d = plot_graph_for_test_depth(env_grid)\n",
    "mins_cat_d,maxs_cat_d, avgs_cat_d = plot_graph_for_test_depth(cat_dynamics)\n"
   ]
  },
  {
   "cell_type": "code",
   "execution_count": 70,
   "metadata": {},
   "outputs": [
    {
     "data": {
      "image/png": "[encoded data removed]",
      "text/plain": [
       "<Figure size 640x480 with 1 Axes>"
      ]
     },
     "metadata": {},
     "output_type": "display_data"
    },
    {
     "data": {
      "image/png": "[encoded data removed]",
      "text/plain": [
       "<Figure size 640x480 with 1 Axes>"
      ]
     },
     "metadata": {},
     "output_type": "display_data"
    }
   ],
   "source": [
    "# plot the graph\n",
    "x_values = [5,10,20,40,100,200]\n",
    "# print(avgs_grid_d)\n",
    "y_values = [x+3  for x in list(avgs_grid_d.values())]\n",
    "plt.plot(x_values,y_values,label='avg', marker='o')\n",
    "min_values_grid = [x+3 for x in list(mins_grid_d.values())]\n",
    "max_values_grid = [x+3 for x in list(maxs_grid_d.values())]  \n",
    "plt.fill_between(x_values,min_values_grid,max_values_grid,alpha=0.5)\n",
    "plt.legend()\n",
    "plt.xlabel('depth')\n",
    "plt.ylabel('Average Return')\n",
    "plt.title('Grid World')\n",
    "# plt.xscale('log')\n",
    "plt.grid(True)\n",
    "plt.show()\n",
    "\n",
    "x_values = [5,10,20,40,100,200]\n",
    "y_values = [x + 4 for x in list(avgs_cat_d.values())]\n",
    "plt.plot(x_values,y_values,label='avg', marker='o')\n",
    "min_values_cat = [x+4 for x in list(mins_cat_d.values())]\n",
    "max_values_cat = [x+4 for x in list(maxs_cat_d.values())]  \n",
    "plt.fill_between(x_values,min_values_cat,max_values_cat,alpha=0.5)\n",
    "plt.legend()\n",
    "plt.xlabel('depth')\n",
    "plt.ylabel('Average Return')\n",
    "plt.title('Cat Vs Monsters')\n",
    "plt.grid(True)\n",
    "# plt.xscale('log')\n",
    "plt.show()"
   ]
  }
 ],
 "metadata": {
  "kernelspec": {
   "display_name": "Python 3",
   "language": "python",
   "name": "python3"
  },
  "language_info": {
   "codemirror_mode": {
    "name": "ipython",
    "version": 3
   },
   "file_extension": ".py",
   "mimetype": "text/x-python",
   "name": "python",
   "nbconvert_exporter": "python",
   "pygments_lexer": "ipython3",
   "version": "3.9.6"
  }
 },
 "nbformat": 4,
 "nbformat_minor": 2
}
